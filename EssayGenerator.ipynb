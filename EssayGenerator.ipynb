{
  "nbformat": 4,
  "nbformat_minor": 0,
  "metadata": {
    "colab": {
      "provenance": [],
      "authorship_tag": "ABX9TyM/aSabzBR4gDHQc5xnENTO",
      "include_colab_link": true
    },
    "kernelspec": {
      "name": "python3",
      "display_name": "Python 3"
    },
    "language_info": {
      "name": "python"
    }
  },
  "cells": [
    {
      "cell_type": "markdown",
      "metadata": {
        "id": "view-in-github",
        "colab_type": "text"
      },
      "source": [
        "<a href=\"https://colab.research.google.com/github/AnkanMoh/MachineLearning/blob/main/EssayGenerator.ipynb\" target=\"_parent\"><img src=\"https://colab.research.google.com/assets/colab-badge.svg\" alt=\"Open In Colab\"/></a>"
      ]
    },
    {
      "cell_type": "code",
      "source": [
        "!pip install -q -U google-generativeai"
      ],
      "metadata": {
        "colab": {
          "base_uri": "https://localhost:8080/"
        },
        "id": "z1I3TgkPtMWL",
        "outputId": "b37e4d7f-89bc-4db3-cae0-cba6df03f697"
      },
      "execution_count": 1,
      "outputs": [
        {
          "output_type": "stream",
          "name": "stdout",
          "text": [
            "\u001b[?25l     \u001b[90m━━━━━━━━━━━━━━━━━━━━━━━━━━━━━━━━━━━━━━━━\u001b[0m \u001b[32m0.0/158.8 kB\u001b[0m \u001b[31m?\u001b[0m eta \u001b[36m-:--:--\u001b[0m\r\u001b[2K     \u001b[91m━━━━━━━━━━━━━━━━━━━━━━━━━━━━━━━━━━━━\u001b[0m\u001b[90m╺\u001b[0m\u001b[90m━━━\u001b[0m \u001b[32m143.4/158.8 kB\u001b[0m \u001b[31m4.2 MB/s\u001b[0m eta \u001b[36m0:00:01\u001b[0m\r\u001b[2K     \u001b[90m━━━━━━━━━━━━━━━━━━━━━━━━━━━━━━━━━━━━━━━━\u001b[0m \u001b[32m158.8/158.8 kB\u001b[0m \u001b[31m2.9 MB/s\u001b[0m eta \u001b[36m0:00:00\u001b[0m\n",
            "\u001b[?25h"
          ]
        }
      ]
    },
    {
      "cell_type": "code",
      "source": [
        "import pathlib\n",
        "import textwrap\n",
        "\n",
        "import google.generativeai as genai\n",
        "\n",
        "from IPython.display import display\n",
        "from IPython.display import Markdown\n",
        "\n",
        "\n",
        "def to_markdown(text):\n",
        "  text = text.replace('•', '  *')\n",
        "  return Markdown(textwrap.indent(text, '> ', predicate=lambda _: True))"
      ],
      "metadata": {
        "id": "9Pdbnbg_GuDw"
      },
      "execution_count": 2,
      "outputs": []
    },
    {
      "cell_type": "code",
      "source": [
        "from google.colab import userdata"
      ],
      "metadata": {
        "id": "LV7NP3FKG608"
      },
      "execution_count": 4,
      "outputs": []
    },
    {
      "cell_type": "code",
      "source": [
        "GOOGLE_API_KEY=userdata.get('GOOGLE_API_KEY')\n",
        "\n",
        "genai.configure(api_key=GOOGLE_API_KEY)"
      ],
      "metadata": {
        "id": "AqPxN7X3G_fi"
      },
      "execution_count": 5,
      "outputs": []
    },
    {
      "cell_type": "code",
      "source": [
        "for m in genai.list_models():\n",
        "  if 'generateContent' in m.supported_generation_methods:\n",
        "    print(m.name)"
      ],
      "metadata": {
        "colab": {
          "base_uri": "https://localhost:8080/",
          "height": 225
        },
        "id": "mDwMZN6DJpJK",
        "outputId": "4e7cd445-d551-4aeb-faa6-ea0803f5ab0d"
      },
      "execution_count": 6,
      "outputs": [
        {
          "output_type": "stream",
          "name": "stdout",
          "text": [
            "models/gemini-1.0-pro\n",
            "models/gemini-1.0-pro-001\n",
            "models/gemini-1.0-pro-latest\n",
            "models/gemini-1.0-pro-vision-latest\n",
            "models/gemini-1.5-flash\n",
            "models/gemini-1.5-flash-001\n",
            "models/gemini-1.5-flash-latest\n",
            "models/gemini-1.5-pro\n",
            "models/gemini-1.5-pro-001\n",
            "models/gemini-1.5-pro-latest\n",
            "models/gemini-pro\n",
            "models/gemini-pro-vision\n"
          ]
        }
      ]
    },
    {
      "cell_type": "code",
      "source": [
        "model = genai.GenerativeModel('gemini-1.5-flash')"
      ],
      "metadata": {
        "id": "LKne_0QMJub8"
      },
      "execution_count": 7,
      "outputs": []
    },
    {
      "cell_type": "code",
      "source": [
        "%%time\n",
        "response = model.generate_content(\"Talk about weather in odisha\")\n",
        "to_markdown(response.text)"
      ],
      "metadata": {
        "colab": {
          "base_uri": "https://localhost:8080/",
          "height": 516
        },
        "id": "Zd0zRt9VK8nQ",
        "outputId": "637c9053-701c-4840-9990-b0dc2c98f425"
      },
      "execution_count": 13,
      "outputs": [
        {
          "output_type": "stream",
          "name": "stdout",
          "text": [
            "CPU times: user 107 ms, sys: 14.3 ms, total: 121 ms\n",
            "Wall time: 8.09 s\n"
          ]
        },
        {
          "output_type": "execute_result",
          "data": {
            "text/plain": [
              "<IPython.core.display.Markdown object>"
            ],
            "text/markdown": "> ## Odisha's Weather: A Tale of Two Seasons, Plus Some Wild Cards\n> \n> Odisha, nestled along India's eastern coast, boasts a diverse and dynamic weather pattern. It's generally characterized by two distinct seasons:\n> \n> **1. The Monsoon Season (June - October):**\n> \n> * **Lifeline of Odisha:** The southwest monsoon brings life to the state, filling rivers, replenishing groundwater, and making agriculture thrive.\n> * **Heavy Rains:** Odisha experiences heavy rainfall during this period, often exceeding 1000 mm. This can lead to flooding, especially in coastal and low-lying areas.\n> * **Cyclones:** The state is unfortunately prone to cyclones during the monsoon season. These storms can bring devastating winds, torrential rain, and storm surges, causing widespread damage and loss of life. \n> * **Humidity:** Expect high humidity levels during the monsoon season, making it feel even hotter than the actual temperature.\n> \n> **2. The Dry Season (November - May):**\n> \n> * **Pleasant Winters:** Winters are generally mild and pleasant, with temperatures ranging from 10-25°C.\n> * **Warm Summers:** Summers can be quite hot, with temperatures exceeding 40°C in some areas. \n> * **Occasional Showers:** While dry, occasional showers and thunderstorms can occur, especially in the months of April and May.\n> \n> **Wild Cards:**\n> \n> * **Heat Waves:** Odisha sometimes experiences heat waves during the summer months, leading to extreme temperatures and health hazards.\n> * **Sea Breezes:** Coastal areas enjoy cool sea breezes, offering some respite from the heat during the summer.\n> \n> **Regional Variations:**\n> \n> * **Coastal Areas:** Experience more rainfall, higher humidity, and stronger wind speeds compared to inland areas.\n> * **Inland Regions:** Generally drier and experience higher temperatures during the summer.\n> \n> **Overall, Odisha's weather is a blend of wet and dry, hot and cool. While it offers picturesque landscapes and rich biodiversity, it's essential to stay informed about weather forecasts and take necessary precautions, especially during the monsoon season and heat waves.** \n"
          },
          "metadata": {},
          "execution_count": 13
        }
      ]
    }
  ]
}