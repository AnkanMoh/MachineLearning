{
  "nbformat": 4,
  "nbformat_minor": 0,
  "metadata": {
    "colab": {
      "provenance": [],
      "authorship_tag": "ABX9TyOEmJS3Amhycmet7yeEPO6x",
      "include_colab_link": true
    },
    "kernelspec": {
      "name": "python3",
      "display_name": "Python 3"
    },
    "language_info": {
      "name": "python"
    }
  },
  "cells": [
    {
      "cell_type": "markdown",
      "metadata": {
        "id": "view-in-github",
        "colab_type": "text"
      },
      "source": [
        "<a href=\"https://colab.research.google.com/github/AnkanMoh/MachineLearning/blob/main/StockPricePredictor.ipynb\" target=\"_parent\"><img src=\"https://colab.research.google.com/assets/colab-badge.svg\" alt=\"Open In Colab\"/></a>"
      ]
    },
    {
      "cell_type": "code",
      "source": [
        "import pandas as pd\n",
        "import pandas_datareader as pdr\n",
        "import requests"
      ],
      "metadata": {
        "id": "Vs5OaOS48PkP"
      },
      "execution_count": 111,
      "outputs": []
    },
    {
      "cell_type": "code",
      "source": [
        "df=pd.read_csv('/content/AAPL.csv')"
      ],
      "metadata": {
        "id": "zrkjATEL80no"
      },
      "execution_count": 112,
      "outputs": []
    },
    {
      "cell_type": "code",
      "source": [
        "df.head()"
      ],
      "metadata": {
        "colab": {
          "base_uri": "https://localhost:8080/",
          "height": 330
        },
        "id": "Hodwet4D9W9t",
        "outputId": "c41f5f8f-6f8e-43a4-9e58-c97c303f316e"
      },
      "execution_count": 113,
      "outputs": [
        {
          "output_type": "execute_result",
          "data": {
            "text/plain": [
              "   Unnamed: 0 symbol                       date    close     high     low  \\\n",
              "0           0   AAPL  2015-05-27 00:00:00+00:00  132.045  132.260  130.05   \n",
              "1           1   AAPL  2015-05-28 00:00:00+00:00  131.780  131.950  131.10   \n",
              "2           2   AAPL  2015-05-29 00:00:00+00:00  130.280  131.450  129.90   \n",
              "3           3   AAPL  2015-06-01 00:00:00+00:00  130.535  131.390  130.05   \n",
              "4           4   AAPL  2015-06-02 00:00:00+00:00  129.960  130.655  129.32   \n",
              "\n",
              "     open    volume    adjClose     adjHigh      adjLow     adjOpen  \\\n",
              "0  130.34  45833246  121.682558  121.880685  119.844118  120.111360   \n",
              "1  131.86  30733309  121.438354  121.595013  120.811718  121.512076   \n",
              "2  131.23  50884452  120.056069  121.134251  119.705890  120.931516   \n",
              "3  131.20  32112797  120.291057  121.078960  119.844118  120.903870   \n",
              "4  129.86  33667627  119.761181  120.401640  119.171406  119.669029   \n",
              "\n",
              "   adjVolume  divCash  splitFactor  \n",
              "0   45833246      0.0          1.0  \n",
              "1   30733309      0.0          1.0  \n",
              "2   50884452      0.0          1.0  \n",
              "3   32112797      0.0          1.0  \n",
              "4   33667627      0.0          1.0  "
            ],
            "text/html": [
              "\n",
              "  <div id=\"df-28487938-aa3b-4a65-a929-ae14cb868813\" class=\"colab-df-container\">\n",
              "    <div>\n",
              "<style scoped>\n",
              "    .dataframe tbody tr th:only-of-type {\n",
              "        vertical-align: middle;\n",
              "    }\n",
              "\n",
              "    .dataframe tbody tr th {\n",
              "        vertical-align: top;\n",
              "    }\n",
              "\n",
              "    .dataframe thead th {\n",
              "        text-align: right;\n",
              "    }\n",
              "</style>\n",
              "<table border=\"1\" class=\"dataframe\">\n",
              "  <thead>\n",
              "    <tr style=\"text-align: right;\">\n",
              "      <th></th>\n",
              "      <th>Unnamed: 0</th>\n",
              "      <th>symbol</th>\n",
              "      <th>date</th>\n",
              "      <th>close</th>\n",
              "      <th>high</th>\n",
              "      <th>low</th>\n",
              "      <th>open</th>\n",
              "      <th>volume</th>\n",
              "      <th>adjClose</th>\n",
              "      <th>adjHigh</th>\n",
              "      <th>adjLow</th>\n",
              "      <th>adjOpen</th>\n",
              "      <th>adjVolume</th>\n",
              "      <th>divCash</th>\n",
              "      <th>splitFactor</th>\n",
              "    </tr>\n",
              "  </thead>\n",
              "  <tbody>\n",
              "    <tr>\n",
              "      <th>0</th>\n",
              "      <td>0</td>\n",
              "      <td>AAPL</td>\n",
              "      <td>2015-05-27 00:00:00+00:00</td>\n",
              "      <td>132.045</td>\n",
              "      <td>132.260</td>\n",
              "      <td>130.05</td>\n",
              "      <td>130.34</td>\n",
              "      <td>45833246</td>\n",
              "      <td>121.682558</td>\n",
              "      <td>121.880685</td>\n",
              "      <td>119.844118</td>\n",
              "      <td>120.111360</td>\n",
              "      <td>45833246</td>\n",
              "      <td>0.0</td>\n",
              "      <td>1.0</td>\n",
              "    </tr>\n",
              "    <tr>\n",
              "      <th>1</th>\n",
              "      <td>1</td>\n",
              "      <td>AAPL</td>\n",
              "      <td>2015-05-28 00:00:00+00:00</td>\n",
              "      <td>131.780</td>\n",
              "      <td>131.950</td>\n",
              "      <td>131.10</td>\n",
              "      <td>131.86</td>\n",
              "      <td>30733309</td>\n",
              "      <td>121.438354</td>\n",
              "      <td>121.595013</td>\n",
              "      <td>120.811718</td>\n",
              "      <td>121.512076</td>\n",
              "      <td>30733309</td>\n",
              "      <td>0.0</td>\n",
              "      <td>1.0</td>\n",
              "    </tr>\n",
              "    <tr>\n",
              "      <th>2</th>\n",
              "      <td>2</td>\n",
              "      <td>AAPL</td>\n",
              "      <td>2015-05-29 00:00:00+00:00</td>\n",
              "      <td>130.280</td>\n",
              "      <td>131.450</td>\n",
              "      <td>129.90</td>\n",
              "      <td>131.23</td>\n",
              "      <td>50884452</td>\n",
              "      <td>120.056069</td>\n",
              "      <td>121.134251</td>\n",
              "      <td>119.705890</td>\n",
              "      <td>120.931516</td>\n",
              "      <td>50884452</td>\n",
              "      <td>0.0</td>\n",
              "      <td>1.0</td>\n",
              "    </tr>\n",
              "    <tr>\n",
              "      <th>3</th>\n",
              "      <td>3</td>\n",
              "      <td>AAPL</td>\n",
              "      <td>2015-06-01 00:00:00+00:00</td>\n",
              "      <td>130.535</td>\n",
              "      <td>131.390</td>\n",
              "      <td>130.05</td>\n",
              "      <td>131.20</td>\n",
              "      <td>32112797</td>\n",
              "      <td>120.291057</td>\n",
              "      <td>121.078960</td>\n",
              "      <td>119.844118</td>\n",
              "      <td>120.903870</td>\n",
              "      <td>32112797</td>\n",
              "      <td>0.0</td>\n",
              "      <td>1.0</td>\n",
              "    </tr>\n",
              "    <tr>\n",
              "      <th>4</th>\n",
              "      <td>4</td>\n",
              "      <td>AAPL</td>\n",
              "      <td>2015-06-02 00:00:00+00:00</td>\n",
              "      <td>129.960</td>\n",
              "      <td>130.655</td>\n",
              "      <td>129.32</td>\n",
              "      <td>129.86</td>\n",
              "      <td>33667627</td>\n",
              "      <td>119.761181</td>\n",
              "      <td>120.401640</td>\n",
              "      <td>119.171406</td>\n",
              "      <td>119.669029</td>\n",
              "      <td>33667627</td>\n",
              "      <td>0.0</td>\n",
              "      <td>1.0</td>\n",
              "    </tr>\n",
              "  </tbody>\n",
              "</table>\n",
              "</div>\n",
              "    <div class=\"colab-df-buttons\">\n",
              "\n",
              "  <div class=\"colab-df-container\">\n",
              "    <button class=\"colab-df-convert\" onclick=\"convertToInteractive('df-28487938-aa3b-4a65-a929-ae14cb868813')\"\n",
              "            title=\"Convert this dataframe to an interactive table.\"\n",
              "            style=\"display:none;\">\n",
              "\n",
              "  <svg xmlns=\"http://www.w3.org/2000/svg\" height=\"24px\" viewBox=\"0 -960 960 960\">\n",
              "    <path d=\"M120-120v-720h720v720H120Zm60-500h600v-160H180v160Zm220 220h160v-160H400v160Zm0 220h160v-160H400v160ZM180-400h160v-160H180v160Zm440 0h160v-160H620v160ZM180-180h160v-160H180v160Zm440 0h160v-160H620v160Z\"/>\n",
              "  </svg>\n",
              "    </button>\n",
              "\n",
              "  <style>\n",
              "    .colab-df-container {\n",
              "      display:flex;\n",
              "      gap: 12px;\n",
              "    }\n",
              "\n",
              "    .colab-df-convert {\n",
              "      background-color: #E8F0FE;\n",
              "      border: none;\n",
              "      border-radius: 50%;\n",
              "      cursor: pointer;\n",
              "      display: none;\n",
              "      fill: #1967D2;\n",
              "      height: 32px;\n",
              "      padding: 0 0 0 0;\n",
              "      width: 32px;\n",
              "    }\n",
              "\n",
              "    .colab-df-convert:hover {\n",
              "      background-color: #E2EBFA;\n",
              "      box-shadow: 0px 1px 2px rgba(60, 64, 67, 0.3), 0px 1px 3px 1px rgba(60, 64, 67, 0.15);\n",
              "      fill: #174EA6;\n",
              "    }\n",
              "\n",
              "    .colab-df-buttons div {\n",
              "      margin-bottom: 4px;\n",
              "    }\n",
              "\n",
              "    [theme=dark] .colab-df-convert {\n",
              "      background-color: #3B4455;\n",
              "      fill: #D2E3FC;\n",
              "    }\n",
              "\n",
              "    [theme=dark] .colab-df-convert:hover {\n",
              "      background-color: #434B5C;\n",
              "      box-shadow: 0px 1px 3px 1px rgba(0, 0, 0, 0.15);\n",
              "      filter: drop-shadow(0px 1px 2px rgba(0, 0, 0, 0.3));\n",
              "      fill: #FFFFFF;\n",
              "    }\n",
              "  </style>\n",
              "\n",
              "    <script>\n",
              "      const buttonEl =\n",
              "        document.querySelector('#df-28487938-aa3b-4a65-a929-ae14cb868813 button.colab-df-convert');\n",
              "      buttonEl.style.display =\n",
              "        google.colab.kernel.accessAllowed ? 'block' : 'none';\n",
              "\n",
              "      async function convertToInteractive(key) {\n",
              "        const element = document.querySelector('#df-28487938-aa3b-4a65-a929-ae14cb868813');\n",
              "        const dataTable =\n",
              "          await google.colab.kernel.invokeFunction('convertToInteractive',\n",
              "                                                    [key], {});\n",
              "        if (!dataTable) return;\n",
              "\n",
              "        const docLinkHtml = 'Like what you see? Visit the ' +\n",
              "          '<a target=\"_blank\" href=https://colab.research.google.com/notebooks/data_table.ipynb>data table notebook</a>'\n",
              "          + ' to learn more about interactive tables.';\n",
              "        element.innerHTML = '';\n",
              "        dataTable['output_type'] = 'display_data';\n",
              "        await google.colab.output.renderOutput(dataTable, element);\n",
              "        const docLink = document.createElement('div');\n",
              "        docLink.innerHTML = docLinkHtml;\n",
              "        element.appendChild(docLink);\n",
              "      }\n",
              "    </script>\n",
              "  </div>\n",
              "\n",
              "\n",
              "<div id=\"df-22385978-5ebd-4883-92a4-cffaa653974b\">\n",
              "  <button class=\"colab-df-quickchart\" onclick=\"quickchart('df-22385978-5ebd-4883-92a4-cffaa653974b')\"\n",
              "            title=\"Suggest charts\"\n",
              "            style=\"display:none;\">\n",
              "\n",
              "<svg xmlns=\"http://www.w3.org/2000/svg\" height=\"24px\"viewBox=\"0 0 24 24\"\n",
              "     width=\"24px\">\n",
              "    <g>\n",
              "        <path d=\"M19 3H5c-1.1 0-2 .9-2 2v14c0 1.1.9 2 2 2h14c1.1 0 2-.9 2-2V5c0-1.1-.9-2-2-2zM9 17H7v-7h2v7zm4 0h-2V7h2v10zm4 0h-2v-4h2v4z\"/>\n",
              "    </g>\n",
              "</svg>\n",
              "  </button>\n",
              "\n",
              "<style>\n",
              "  .colab-df-quickchart {\n",
              "      --bg-color: #E8F0FE;\n",
              "      --fill-color: #1967D2;\n",
              "      --hover-bg-color: #E2EBFA;\n",
              "      --hover-fill-color: #174EA6;\n",
              "      --disabled-fill-color: #AAA;\n",
              "      --disabled-bg-color: #DDD;\n",
              "  }\n",
              "\n",
              "  [theme=dark] .colab-df-quickchart {\n",
              "      --bg-color: #3B4455;\n",
              "      --fill-color: #D2E3FC;\n",
              "      --hover-bg-color: #434B5C;\n",
              "      --hover-fill-color: #FFFFFF;\n",
              "      --disabled-bg-color: #3B4455;\n",
              "      --disabled-fill-color: #666;\n",
              "  }\n",
              "\n",
              "  .colab-df-quickchart {\n",
              "    background-color: var(--bg-color);\n",
              "    border: none;\n",
              "    border-radius: 50%;\n",
              "    cursor: pointer;\n",
              "    display: none;\n",
              "    fill: var(--fill-color);\n",
              "    height: 32px;\n",
              "    padding: 0;\n",
              "    width: 32px;\n",
              "  }\n",
              "\n",
              "  .colab-df-quickchart:hover {\n",
              "    background-color: var(--hover-bg-color);\n",
              "    box-shadow: 0 1px 2px rgba(60, 64, 67, 0.3), 0 1px 3px 1px rgba(60, 64, 67, 0.15);\n",
              "    fill: var(--button-hover-fill-color);\n",
              "  }\n",
              "\n",
              "  .colab-df-quickchart-complete:disabled,\n",
              "  .colab-df-quickchart-complete:disabled:hover {\n",
              "    background-color: var(--disabled-bg-color);\n",
              "    fill: var(--disabled-fill-color);\n",
              "    box-shadow: none;\n",
              "  }\n",
              "\n",
              "  .colab-df-spinner {\n",
              "    border: 2px solid var(--fill-color);\n",
              "    border-color: transparent;\n",
              "    border-bottom-color: var(--fill-color);\n",
              "    animation:\n",
              "      spin 1s steps(1) infinite;\n",
              "  }\n",
              "\n",
              "  @keyframes spin {\n",
              "    0% {\n",
              "      border-color: transparent;\n",
              "      border-bottom-color: var(--fill-color);\n",
              "      border-left-color: var(--fill-color);\n",
              "    }\n",
              "    20% {\n",
              "      border-color: transparent;\n",
              "      border-left-color: var(--fill-color);\n",
              "      border-top-color: var(--fill-color);\n",
              "    }\n",
              "    30% {\n",
              "      border-color: transparent;\n",
              "      border-left-color: var(--fill-color);\n",
              "      border-top-color: var(--fill-color);\n",
              "      border-right-color: var(--fill-color);\n",
              "    }\n",
              "    40% {\n",
              "      border-color: transparent;\n",
              "      border-right-color: var(--fill-color);\n",
              "      border-top-color: var(--fill-color);\n",
              "    }\n",
              "    60% {\n",
              "      border-color: transparent;\n",
              "      border-right-color: var(--fill-color);\n",
              "    }\n",
              "    80% {\n",
              "      border-color: transparent;\n",
              "      border-right-color: var(--fill-color);\n",
              "      border-bottom-color: var(--fill-color);\n",
              "    }\n",
              "    90% {\n",
              "      border-color: transparent;\n",
              "      border-bottom-color: var(--fill-color);\n",
              "    }\n",
              "  }\n",
              "</style>\n",
              "\n",
              "  <script>\n",
              "    async function quickchart(key) {\n",
              "      const quickchartButtonEl =\n",
              "        document.querySelector('#' + key + ' button');\n",
              "      quickchartButtonEl.disabled = true;  // To prevent multiple clicks.\n",
              "      quickchartButtonEl.classList.add('colab-df-spinner');\n",
              "      try {\n",
              "        const charts = await google.colab.kernel.invokeFunction(\n",
              "            'suggestCharts', [key], {});\n",
              "      } catch (error) {\n",
              "        console.error('Error during call to suggestCharts:', error);\n",
              "      }\n",
              "      quickchartButtonEl.classList.remove('colab-df-spinner');\n",
              "      quickchartButtonEl.classList.add('colab-df-quickchart-complete');\n",
              "    }\n",
              "    (() => {\n",
              "      let quickchartButtonEl =\n",
              "        document.querySelector('#df-22385978-5ebd-4883-92a4-cffaa653974b button');\n",
              "      quickchartButtonEl.style.display =\n",
              "        google.colab.kernel.accessAllowed ? 'block' : 'none';\n",
              "    })();\n",
              "  </script>\n",
              "</div>\n",
              "\n",
              "    </div>\n",
              "  </div>\n"
            ],
            "application/vnd.google.colaboratory.intrinsic+json": {
              "type": "dataframe",
              "variable_name": "df",
              "summary": "{\n  \"name\": \"df\",\n  \"rows\": 1258,\n  \"fields\": [\n    {\n      \"column\": \"Unnamed: 0\",\n      \"properties\": {\n        \"dtype\": \"number\",\n        \"std\": 363,\n        \"min\": 0,\n        \"max\": 1257,\n        \"num_unique_values\": 1258,\n        \"samples\": [\n          561,\n          101,\n          51\n        ],\n        \"semantic_type\": \"\",\n        \"description\": \"\"\n      }\n    },\n    {\n      \"column\": \"symbol\",\n      \"properties\": {\n        \"dtype\": \"category\",\n        \"num_unique_values\": 1,\n        \"samples\": [\n          \"AAPL\"\n        ],\n        \"semantic_type\": \"\",\n        \"description\": \"\"\n      }\n    },\n    {\n      \"column\": \"date\",\n      \"properties\": {\n        \"dtype\": \"object\",\n        \"num_unique_values\": 1258,\n        \"samples\": [\n          \"2017-08-16 00:00:00+00:00\"\n        ],\n        \"semantic_type\": \"\",\n        \"description\": \"\"\n      }\n    },\n    {\n      \"column\": \"close\",\n      \"properties\": {\n        \"dtype\": \"number\",\n        \"std\": 56.85079637576302,\n        \"min\": 90.34,\n        \"max\": 327.2,\n        \"num_unique_values\": 1201,\n        \"samples\": [\n          97.9\n        ],\n        \"semantic_type\": \"\",\n        \"description\": \"\"\n      }\n    },\n    {\n      \"column\": \"high\",\n      \"properties\": {\n        \"dtype\": \"number\",\n        \"std\": 57.500128210420044,\n        \"min\": 91.67,\n        \"max\": 327.85,\n        \"num_unique_values\": 1196,\n        \"samples\": [\n          177.78\n        ],\n        \"semantic_type\": \"\",\n        \"description\": \"\"\n      }\n    },\n    {\n      \"column\": \"low\",\n      \"properties\": {\n        \"dtype\": \"number\",\n        \"std\": 56.0067733750934,\n        \"min\": 89.47,\n        \"max\": 323.35,\n        \"num_unique_values\": 1209,\n        \"samples\": [\n          113.7\n        ],\n        \"semantic_type\": \"\",\n        \"description\": \"\"\n      }\n    },\n    {\n      \"column\": \"open\",\n      \"properties\": {\n        \"dtype\": \"number\",\n        \"std\": 56.612706510014405,\n        \"min\": 90.0,\n        \"max\": 324.73,\n        \"num_unique_values\": 1205,\n        \"samples\": [\n          114.0\n        ],\n        \"semantic_type\": \"\",\n        \"description\": \"\"\n      }\n    },\n    {\n      \"column\": \"volume\",\n      \"properties\": {\n        \"dtype\": \"number\",\n        \"std\": 17290996,\n        \"min\": 11362045,\n        \"max\": 162206292,\n        \"num_unique_values\": 1258,\n        \"samples\": [\n          27321761\n        ],\n        \"semantic_type\": \"\",\n        \"description\": \"\"\n      }\n    },\n    {\n      \"column\": \"adjClose\",\n      \"properties\": {\n        \"dtype\": \"number\",\n        \"std\": 58.73382042107333,\n        \"min\": 84.9543507876,\n        \"max\": 326.3371474514,\n        \"num_unique_values\": 1240,\n        \"samples\": [\n          115.3255043138\n        ],\n        \"semantic_type\": \"\",\n        \"description\": \"\"\n      }\n    },\n    {\n      \"column\": \"adjHigh\",\n      \"properties\": {\n        \"dtype\": \"number\",\n        \"std\": 59.4028420444512,\n        \"min\": 86.2050623943,\n        \"max\": 326.3570947098,\n        \"num_unique_values\": 1237,\n        \"samples\": [\n          167.7436178294\n        ],\n        \"semantic_type\": \"\",\n        \"description\": \"\"\n      }\n    },\n    {\n      \"column\": \"adjLow\",\n      \"properties\": {\n        \"dtype\": \"number\",\n        \"std\": 57.86924613698459,\n        \"min\": 84.13621612760001,\n        \"max\": 322.497300209,\n        \"num_unique_values\": 1238,\n        \"samples\": [\n          164.4602079237\n        ],\n        \"semantic_type\": \"\",\n        \"description\": \"\"\n      }\n    },\n    {\n      \"column\": \"adjOpen\",\n      \"properties\": {\n        \"dtype\": \"number\",\n        \"std\": 58.494560063550416,\n        \"min\": 84.6346200009,\n        \"max\": 323.87366103880004,\n        \"num_unique_values\": 1237,\n        \"samples\": [\n          165.310031664\n        ],\n        \"semantic_type\": \"\",\n        \"description\": \"\"\n      }\n    },\n    {\n      \"column\": \"adjVolume\",\n      \"properties\": {\n        \"dtype\": \"number\",\n        \"std\": 17290996,\n        \"min\": 11362045,\n        \"max\": 162206292,\n        \"num_unique_values\": 1258,\n        \"samples\": [\n          27321761\n        ],\n        \"semantic_type\": \"\",\n        \"description\": \"\"\n      }\n    },\n    {\n      \"column\": \"divCash\",\n      \"properties\": {\n        \"dtype\": \"number\",\n        \"std\": 0.08336553314965248,\n        \"min\": 0.0,\n        \"max\": 0.82,\n        \"num_unique_values\": 7,\n        \"samples\": [\n          0.0\n        ],\n        \"semantic_type\": \"\",\n        \"description\": \"\"\n      }\n    },\n    {\n      \"column\": \"splitFactor\",\n      \"properties\": {\n        \"dtype\": \"number\",\n        \"std\": 0.0,\n        \"min\": 1.0,\n        \"max\": 1.0,\n        \"num_unique_values\": 1,\n        \"samples\": [\n          1.0\n        ],\n        \"semantic_type\": \"\",\n        \"description\": \"\"\n      }\n    }\n  ]\n}"
            }
          },
          "metadata": {},
          "execution_count": 113
        }
      ]
    },
    {
      "cell_type": "code",
      "source": [
        "df.tail()"
      ],
      "metadata": {
        "colab": {
          "base_uri": "https://localhost:8080/",
          "height": 330
        },
        "id": "wBuKEmMx-o6-",
        "outputId": "b4355bd1-59ad-4b60-ae53-d01e103f2b5e"
      },
      "execution_count": 114,
      "outputs": [
        {
          "output_type": "execute_result",
          "data": {
            "text/plain": [
              "      Unnamed: 0 symbol                       date   close    high       low  \\\n",
              "1253        1253   AAPL  2020-05-18 00:00:00+00:00  314.96  316.50  310.3241   \n",
              "1254        1254   AAPL  2020-05-19 00:00:00+00:00  313.14  318.52  313.0100   \n",
              "1255        1255   AAPL  2020-05-20 00:00:00+00:00  319.23  319.52  316.2000   \n",
              "1256        1256   AAPL  2020-05-21 00:00:00+00:00  316.85  320.89  315.8700   \n",
              "1257        1257   AAPL  2020-05-22 00:00:00+00:00  318.89  319.23  315.3500   \n",
              "\n",
              "        open    volume  adjClose  adjHigh    adjLow  adjOpen  adjVolume  \\\n",
              "1253  313.17  33843125    314.96   316.50  310.3241   313.17   33843125   \n",
              "1254  315.03  25432385    313.14   318.52  313.0100   315.03   25432385   \n",
              "1255  316.68  27876215    319.23   319.52  316.2000   316.68   27876215   \n",
              "1256  318.66  25672211    316.85   320.89  315.8700   318.66   25672211   \n",
              "1257  315.77  20450754    318.89   319.23  315.3500   315.77   20450754   \n",
              "\n",
              "      divCash  splitFactor  \n",
              "1253      0.0          1.0  \n",
              "1254      0.0          1.0  \n",
              "1255      0.0          1.0  \n",
              "1256      0.0          1.0  \n",
              "1257      0.0          1.0  "
            ],
            "text/html": [
              "\n",
              "  <div id=\"df-8007e892-5bb0-41e8-865f-e7a8abe75175\" class=\"colab-df-container\">\n",
              "    <div>\n",
              "<style scoped>\n",
              "    .dataframe tbody tr th:only-of-type {\n",
              "        vertical-align: middle;\n",
              "    }\n",
              "\n",
              "    .dataframe tbody tr th {\n",
              "        vertical-align: top;\n",
              "    }\n",
              "\n",
              "    .dataframe thead th {\n",
              "        text-align: right;\n",
              "    }\n",
              "</style>\n",
              "<table border=\"1\" class=\"dataframe\">\n",
              "  <thead>\n",
              "    <tr style=\"text-align: right;\">\n",
              "      <th></th>\n",
              "      <th>Unnamed: 0</th>\n",
              "      <th>symbol</th>\n",
              "      <th>date</th>\n",
              "      <th>close</th>\n",
              "      <th>high</th>\n",
              "      <th>low</th>\n",
              "      <th>open</th>\n",
              "      <th>volume</th>\n",
              "      <th>adjClose</th>\n",
              "      <th>adjHigh</th>\n",
              "      <th>adjLow</th>\n",
              "      <th>adjOpen</th>\n",
              "      <th>adjVolume</th>\n",
              "      <th>divCash</th>\n",
              "      <th>splitFactor</th>\n",
              "    </tr>\n",
              "  </thead>\n",
              "  <tbody>\n",
              "    <tr>\n",
              "      <th>1253</th>\n",
              "      <td>1253</td>\n",
              "      <td>AAPL</td>\n",
              "      <td>2020-05-18 00:00:00+00:00</td>\n",
              "      <td>314.96</td>\n",
              "      <td>316.50</td>\n",
              "      <td>310.3241</td>\n",
              "      <td>313.17</td>\n",
              "      <td>33843125</td>\n",
              "      <td>314.96</td>\n",
              "      <td>316.50</td>\n",
              "      <td>310.3241</td>\n",
              "      <td>313.17</td>\n",
              "      <td>33843125</td>\n",
              "      <td>0.0</td>\n",
              "      <td>1.0</td>\n",
              "    </tr>\n",
              "    <tr>\n",
              "      <th>1254</th>\n",
              "      <td>1254</td>\n",
              "      <td>AAPL</td>\n",
              "      <td>2020-05-19 00:00:00+00:00</td>\n",
              "      <td>313.14</td>\n",
              "      <td>318.52</td>\n",
              "      <td>313.0100</td>\n",
              "      <td>315.03</td>\n",
              "      <td>25432385</td>\n",
              "      <td>313.14</td>\n",
              "      <td>318.52</td>\n",
              "      <td>313.0100</td>\n",
              "      <td>315.03</td>\n",
              "      <td>25432385</td>\n",
              "      <td>0.0</td>\n",
              "      <td>1.0</td>\n",
              "    </tr>\n",
              "    <tr>\n",
              "      <th>1255</th>\n",
              "      <td>1255</td>\n",
              "      <td>AAPL</td>\n",
              "      <td>2020-05-20 00:00:00+00:00</td>\n",
              "      <td>319.23</td>\n",
              "      <td>319.52</td>\n",
              "      <td>316.2000</td>\n",
              "      <td>316.68</td>\n",
              "      <td>27876215</td>\n",
              "      <td>319.23</td>\n",
              "      <td>319.52</td>\n",
              "      <td>316.2000</td>\n",
              "      <td>316.68</td>\n",
              "      <td>27876215</td>\n",
              "      <td>0.0</td>\n",
              "      <td>1.0</td>\n",
              "    </tr>\n",
              "    <tr>\n",
              "      <th>1256</th>\n",
              "      <td>1256</td>\n",
              "      <td>AAPL</td>\n",
              "      <td>2020-05-21 00:00:00+00:00</td>\n",
              "      <td>316.85</td>\n",
              "      <td>320.89</td>\n",
              "      <td>315.8700</td>\n",
              "      <td>318.66</td>\n",
              "      <td>25672211</td>\n",
              "      <td>316.85</td>\n",
              "      <td>320.89</td>\n",
              "      <td>315.8700</td>\n",
              "      <td>318.66</td>\n",
              "      <td>25672211</td>\n",
              "      <td>0.0</td>\n",
              "      <td>1.0</td>\n",
              "    </tr>\n",
              "    <tr>\n",
              "      <th>1257</th>\n",
              "      <td>1257</td>\n",
              "      <td>AAPL</td>\n",
              "      <td>2020-05-22 00:00:00+00:00</td>\n",
              "      <td>318.89</td>\n",
              "      <td>319.23</td>\n",
              "      <td>315.3500</td>\n",
              "      <td>315.77</td>\n",
              "      <td>20450754</td>\n",
              "      <td>318.89</td>\n",
              "      <td>319.23</td>\n",
              "      <td>315.3500</td>\n",
              "      <td>315.77</td>\n",
              "      <td>20450754</td>\n",
              "      <td>0.0</td>\n",
              "      <td>1.0</td>\n",
              "    </tr>\n",
              "  </tbody>\n",
              "</table>\n",
              "</div>\n",
              "    <div class=\"colab-df-buttons\">\n",
              "\n",
              "  <div class=\"colab-df-container\">\n",
              "    <button class=\"colab-df-convert\" onclick=\"convertToInteractive('df-8007e892-5bb0-41e8-865f-e7a8abe75175')\"\n",
              "            title=\"Convert this dataframe to an interactive table.\"\n",
              "            style=\"display:none;\">\n",
              "\n",
              "  <svg xmlns=\"http://www.w3.org/2000/svg\" height=\"24px\" viewBox=\"0 -960 960 960\">\n",
              "    <path d=\"M120-120v-720h720v720H120Zm60-500h600v-160H180v160Zm220 220h160v-160H400v160Zm0 220h160v-160H400v160ZM180-400h160v-160H180v160Zm440 0h160v-160H620v160ZM180-180h160v-160H180v160Zm440 0h160v-160H620v160Z\"/>\n",
              "  </svg>\n",
              "    </button>\n",
              "\n",
              "  <style>\n",
              "    .colab-df-container {\n",
              "      display:flex;\n",
              "      gap: 12px;\n",
              "    }\n",
              "\n",
              "    .colab-df-convert {\n",
              "      background-color: #E8F0FE;\n",
              "      border: none;\n",
              "      border-radius: 50%;\n",
              "      cursor: pointer;\n",
              "      display: none;\n",
              "      fill: #1967D2;\n",
              "      height: 32px;\n",
              "      padding: 0 0 0 0;\n",
              "      width: 32px;\n",
              "    }\n",
              "\n",
              "    .colab-df-convert:hover {\n",
              "      background-color: #E2EBFA;\n",
              "      box-shadow: 0px 1px 2px rgba(60, 64, 67, 0.3), 0px 1px 3px 1px rgba(60, 64, 67, 0.15);\n",
              "      fill: #174EA6;\n",
              "    }\n",
              "\n",
              "    .colab-df-buttons div {\n",
              "      margin-bottom: 4px;\n",
              "    }\n",
              "\n",
              "    [theme=dark] .colab-df-convert {\n",
              "      background-color: #3B4455;\n",
              "      fill: #D2E3FC;\n",
              "    }\n",
              "\n",
              "    [theme=dark] .colab-df-convert:hover {\n",
              "      background-color: #434B5C;\n",
              "      box-shadow: 0px 1px 3px 1px rgba(0, 0, 0, 0.15);\n",
              "      filter: drop-shadow(0px 1px 2px rgba(0, 0, 0, 0.3));\n",
              "      fill: #FFFFFF;\n",
              "    }\n",
              "  </style>\n",
              "\n",
              "    <script>\n",
              "      const buttonEl =\n",
              "        document.querySelector('#df-8007e892-5bb0-41e8-865f-e7a8abe75175 button.colab-df-convert');\n",
              "      buttonEl.style.display =\n",
              "        google.colab.kernel.accessAllowed ? 'block' : 'none';\n",
              "\n",
              "      async function convertToInteractive(key) {\n",
              "        const element = document.querySelector('#df-8007e892-5bb0-41e8-865f-e7a8abe75175');\n",
              "        const dataTable =\n",
              "          await google.colab.kernel.invokeFunction('convertToInteractive',\n",
              "                                                    [key], {});\n",
              "        if (!dataTable) return;\n",
              "\n",
              "        const docLinkHtml = 'Like what you see? Visit the ' +\n",
              "          '<a target=\"_blank\" href=https://colab.research.google.com/notebooks/data_table.ipynb>data table notebook</a>'\n",
              "          + ' to learn more about interactive tables.';\n",
              "        element.innerHTML = '';\n",
              "        dataTable['output_type'] = 'display_data';\n",
              "        await google.colab.output.renderOutput(dataTable, element);\n",
              "        const docLink = document.createElement('div');\n",
              "        docLink.innerHTML = docLinkHtml;\n",
              "        element.appendChild(docLink);\n",
              "      }\n",
              "    </script>\n",
              "  </div>\n",
              "\n",
              "\n",
              "<div id=\"df-92feb23d-a67f-4ac5-836e-a84af5af40ae\">\n",
              "  <button class=\"colab-df-quickchart\" onclick=\"quickchart('df-92feb23d-a67f-4ac5-836e-a84af5af40ae')\"\n",
              "            title=\"Suggest charts\"\n",
              "            style=\"display:none;\">\n",
              "\n",
              "<svg xmlns=\"http://www.w3.org/2000/svg\" height=\"24px\"viewBox=\"0 0 24 24\"\n",
              "     width=\"24px\">\n",
              "    <g>\n",
              "        <path d=\"M19 3H5c-1.1 0-2 .9-2 2v14c0 1.1.9 2 2 2h14c1.1 0 2-.9 2-2V5c0-1.1-.9-2-2-2zM9 17H7v-7h2v7zm4 0h-2V7h2v10zm4 0h-2v-4h2v4z\"/>\n",
              "    </g>\n",
              "</svg>\n",
              "  </button>\n",
              "\n",
              "<style>\n",
              "  .colab-df-quickchart {\n",
              "      --bg-color: #E8F0FE;\n",
              "      --fill-color: #1967D2;\n",
              "      --hover-bg-color: #E2EBFA;\n",
              "      --hover-fill-color: #174EA6;\n",
              "      --disabled-fill-color: #AAA;\n",
              "      --disabled-bg-color: #DDD;\n",
              "  }\n",
              "\n",
              "  [theme=dark] .colab-df-quickchart {\n",
              "      --bg-color: #3B4455;\n",
              "      --fill-color: #D2E3FC;\n",
              "      --hover-bg-color: #434B5C;\n",
              "      --hover-fill-color: #FFFFFF;\n",
              "      --disabled-bg-color: #3B4455;\n",
              "      --disabled-fill-color: #666;\n",
              "  }\n",
              "\n",
              "  .colab-df-quickchart {\n",
              "    background-color: var(--bg-color);\n",
              "    border: none;\n",
              "    border-radius: 50%;\n",
              "    cursor: pointer;\n",
              "    display: none;\n",
              "    fill: var(--fill-color);\n",
              "    height: 32px;\n",
              "    padding: 0;\n",
              "    width: 32px;\n",
              "  }\n",
              "\n",
              "  .colab-df-quickchart:hover {\n",
              "    background-color: var(--hover-bg-color);\n",
              "    box-shadow: 0 1px 2px rgba(60, 64, 67, 0.3), 0 1px 3px 1px rgba(60, 64, 67, 0.15);\n",
              "    fill: var(--button-hover-fill-color);\n",
              "  }\n",
              "\n",
              "  .colab-df-quickchart-complete:disabled,\n",
              "  .colab-df-quickchart-complete:disabled:hover {\n",
              "    background-color: var(--disabled-bg-color);\n",
              "    fill: var(--disabled-fill-color);\n",
              "    box-shadow: none;\n",
              "  }\n",
              "\n",
              "  .colab-df-spinner {\n",
              "    border: 2px solid var(--fill-color);\n",
              "    border-color: transparent;\n",
              "    border-bottom-color: var(--fill-color);\n",
              "    animation:\n",
              "      spin 1s steps(1) infinite;\n",
              "  }\n",
              "\n",
              "  @keyframes spin {\n",
              "    0% {\n",
              "      border-color: transparent;\n",
              "      border-bottom-color: var(--fill-color);\n",
              "      border-left-color: var(--fill-color);\n",
              "    }\n",
              "    20% {\n",
              "      border-color: transparent;\n",
              "      border-left-color: var(--fill-color);\n",
              "      border-top-color: var(--fill-color);\n",
              "    }\n",
              "    30% {\n",
              "      border-color: transparent;\n",
              "      border-left-color: var(--fill-color);\n",
              "      border-top-color: var(--fill-color);\n",
              "      border-right-color: var(--fill-color);\n",
              "    }\n",
              "    40% {\n",
              "      border-color: transparent;\n",
              "      border-right-color: var(--fill-color);\n",
              "      border-top-color: var(--fill-color);\n",
              "    }\n",
              "    60% {\n",
              "      border-color: transparent;\n",
              "      border-right-color: var(--fill-color);\n",
              "    }\n",
              "    80% {\n",
              "      border-color: transparent;\n",
              "      border-right-color: var(--fill-color);\n",
              "      border-bottom-color: var(--fill-color);\n",
              "    }\n",
              "    90% {\n",
              "      border-color: transparent;\n",
              "      border-bottom-color: var(--fill-color);\n",
              "    }\n",
              "  }\n",
              "</style>\n",
              "\n",
              "  <script>\n",
              "    async function quickchart(key) {\n",
              "      const quickchartButtonEl =\n",
              "        document.querySelector('#' + key + ' button');\n",
              "      quickchartButtonEl.disabled = true;  // To prevent multiple clicks.\n",
              "      quickchartButtonEl.classList.add('colab-df-spinner');\n",
              "      try {\n",
              "        const charts = await google.colab.kernel.invokeFunction(\n",
              "            'suggestCharts', [key], {});\n",
              "      } catch (error) {\n",
              "        console.error('Error during call to suggestCharts:', error);\n",
              "      }\n",
              "      quickchartButtonEl.classList.remove('colab-df-spinner');\n",
              "      quickchartButtonEl.classList.add('colab-df-quickchart-complete');\n",
              "    }\n",
              "    (() => {\n",
              "      let quickchartButtonEl =\n",
              "        document.querySelector('#df-92feb23d-a67f-4ac5-836e-a84af5af40ae button');\n",
              "      quickchartButtonEl.style.display =\n",
              "        google.colab.kernel.accessAllowed ? 'block' : 'none';\n",
              "    })();\n",
              "  </script>\n",
              "</div>\n",
              "\n",
              "    </div>\n",
              "  </div>\n"
            ],
            "application/vnd.google.colaboratory.intrinsic+json": {
              "type": "dataframe",
              "repr_error": "0"
            }
          },
          "metadata": {},
          "execution_count": 114
        }
      ]
    },
    {
      "cell_type": "code",
      "source": [
        "df1=df.reset_index()['close']"
      ],
      "metadata": {
        "id": "z8yzxSNe8-02"
      },
      "execution_count": 115,
      "outputs": []
    },
    {
      "cell_type": "code",
      "source": [
        "df1[1228:]"
      ],
      "metadata": {
        "colab": {
          "base_uri": "https://localhost:8080/"
        },
        "id": "dWPvDMd2-tqQ",
        "outputId": "1e395988-3722-4876-9796-3560d9ce9f49"
      },
      "execution_count": 116,
      "outputs": [
        {
          "output_type": "execute_result",
          "data": {
            "text/plain": [
              "1228    273.25\n",
              "1229    287.05\n",
              "1230    284.43\n",
              "1231    286.69\n",
              "1232    282.80\n",
              "1233    276.93\n",
              "1234    268.37\n",
              "1235    276.10\n",
              "1236    275.03\n",
              "1237    282.97\n",
              "1238    283.17\n",
              "1239    278.58\n",
              "1240    287.73\n",
              "1241    293.80\n",
              "1242    289.07\n",
              "1243    293.16\n",
              "1244    297.56\n",
              "1245    300.63\n",
              "1246    303.74\n",
              "1247    310.13\n",
              "1248    315.01\n",
              "1249    311.41\n",
              "1250    307.65\n",
              "1251    309.54\n",
              "1252    307.71\n",
              "1253    314.96\n",
              "1254    313.14\n",
              "1255    319.23\n",
              "1256    316.85\n",
              "1257    318.89\n",
              "Name: close, dtype: float64"
            ]
          },
          "metadata": {},
          "execution_count": 116
        }
      ]
    },
    {
      "cell_type": "code",
      "source": [
        "import matplotlib.pyplot as plt\n",
        "plt.plot(df1)"
      ],
      "metadata": {
        "colab": {
          "base_uri": "https://localhost:8080/",
          "height": 447
        },
        "id": "LXTVswJY-9M9",
        "outputId": "b00d36f6-3f1f-4d03-9a06-f31f12f99356"
      },
      "execution_count": 117,
      "outputs": [
        {
          "output_type": "execute_result",
          "data": {
            "text/plain": [
              "[<matplotlib.lines.Line2D at 0x7c3368fdea70>]"
            ]
          },
          "metadata": {},
          "execution_count": 117
        },
        {
          "output_type": "display_data",
          "data": {
            "text/plain": [
              "<Figure size 640x480 with 1 Axes>"
            ],
            "image/png": "[encoded data removed]"
          },
          "metadata": {}
        }
      ]
    },
    {
      "cell_type": "code",
      "source": [
        "import numpy as np\n",
        "from sklearn.preprocessing import MinMaxScaler\n",
        "scaler=MinMaxScaler(feature_range=(0,1))\n",
        "df1=scaler.fit_transform(np.array(df1).reshape(-1,1))"
      ],
      "metadata": {
        "id": "_KdRRZ6C_PQS"
      },
      "execution_count": 118,
      "outputs": []
    },
    {
      "cell_type": "code",
      "source": [
        "df1.shape"
      ],
      "metadata": {
        "colab": {
          "base_uri": "https://localhost:8080/"
        },
        "id": "jIuBdEvq_YDI",
        "outputId": "84be6565-4d89-4e2f-d95b-7c864118a8f5"
      },
      "execution_count": 119,
      "outputs": [
        {
          "output_type": "execute_result",
          "data": {
            "text/plain": [
              "(1258, 1)"
            ]
          },
          "metadata": {},
          "execution_count": 119
        }
      ]
    },
    {
      "cell_type": "code",
      "source": [
        "df1"
      ],
      "metadata": {
        "colab": {
          "base_uri": "https://localhost:8080/"
        },
        "id": "4tiifCod_jyU",
        "outputId": "08fa9dd8-60c7-43c3-ca42-87df8464909a"
      },
      "execution_count": 120,
      "outputs": [
        {
          "output_type": "execute_result",
          "data": {
            "text/plain": [
              "array([[0.17607447],\n",
              "       [0.17495567],\n",
              "       [0.16862282],\n",
              "       ...,\n",
              "       [0.96635143],\n",
              "       [0.9563033 ],\n",
              "       [0.96491598]])"
            ]
          },
          "metadata": {},
          "execution_count": 120
        }
      ]
    },
    {
      "cell_type": "code",
      "source": [
        "training_size=int(len(df1)*0.65)\n",
        "test_size=len(df1)-training_size\n",
        "train_data,test_data=df1[0:training_size,:],df1[training_size:len(df1),:1]"
      ],
      "metadata": {
        "id": "MfYvg0K0_rm6"
      },
      "execution_count": 121,
      "outputs": []
    },
    {
      "cell_type": "code",
      "source": [
        "import numpy\n",
        "def create_dataset(dataset, time_step=1):\n",
        "\tdataX, dataY = [], []\n",
        "\tfor i in range(len(dataset)-time_step-1):\n",
        "\t\ta = dataset[i:(i+time_step), 0]\n",
        "\t\tdataX.append(a)\n",
        "\t\tdataY.append(dataset[i + time_step, 0])\n",
        "\treturn numpy.array(dataX), numpy.array(dataY)"
      ],
      "metadata": {
        "id": "3BPxbRNQAwSz"
      },
      "execution_count": 122,
      "outputs": []
    },
    {
      "cell_type": "code",
      "source": [
        "time_step = 100\n",
        "X_train, y_train = create_dataset(train_data, time_step)\n",
        "X_test, y_test = create_dataset(test_data, time_step)"
      ],
      "metadata": {
        "id": "W_sjl-k6LRVx"
      },
      "execution_count": 123,
      "outputs": []
    },
    {
      "cell_type": "code",
      "source": [
        "print(X_train.shape), print(y_train.shape)"
      ],
      "metadata": {
        "colab": {
          "base_uri": "https://localhost:8080/"
        },
        "id": "YIeiMCtXLUit",
        "outputId": "6e663752-1a8b-4bae-b52a-25030dab76cf"
      },
      "execution_count": 124,
      "outputs": [
        {
          "output_type": "stream",
          "name": "stdout",
          "text": [
            "(716, 100)\n",
            "(716,)\n"
          ]
        },
        {
          "output_type": "execute_result",
          "data": {
            "text/plain": [
              "(None, None)"
            ]
          },
          "metadata": {},
          "execution_count": 124
        }
      ]
    },
    {
      "cell_type": "code",
      "source": [
        "print(X_test.shape), print(ytest.shape)"
      ],
      "metadata": {
        "colab": {
          "base_uri": "https://localhost:8080/"
        },
        "id": "sBAkHYdOLYVc",
        "outputId": "6048f66f-b11b-4ccd-b04f-3c44b3db368c"
      },
      "execution_count": 125,
      "outputs": [
        {
          "output_type": "stream",
          "name": "stdout",
          "text": [
            "(340, 100)\n",
            "(340,)\n"
          ]
        },
        {
          "output_type": "execute_result",
          "data": {
            "text/plain": [
              "(None, None)"
            ]
          },
          "metadata": {},
          "execution_count": 125
        }
      ]
    },
    {
      "cell_type": "code",
      "source": [
        "X_train =X_train.reshape(X_train.shape[0],X_train.shape[1] , 1)\n",
        "X_test = X_test.reshape(X_test.shape[0],X_test.shape[1] , 1)"
      ],
      "metadata": {
        "id": "qmbqGDClLgUR"
      },
      "execution_count": 126,
      "outputs": []
    },
    {
      "cell_type": "code",
      "source": [
        "from tensorflow.keras.models import Sequential\n",
        "from tensorflow.keras.layers import Dense\n",
        "from tensorflow.keras.layers import LSTM"
      ],
      "metadata": {
        "id": "oBVVIx8-Ll6t"
      },
      "execution_count": 127,
      "outputs": []
    },
    {
      "cell_type": "code",
      "source": [
        "model=Sequential()\n",
        "model.add(LSTM(50,return_sequences=True,input_shape=(100,1)))\n",
        "model.add(LSTM(50,return_sequences=True))\n",
        "model.add(LSTM(50))\n",
        "model.add(Dense(1))\n",
        "model.compile(loss='mean_squared_error',optimizer='adam')"
      ],
      "metadata": {
        "id": "AuIVHtQfLo8d"
      },
      "execution_count": 128,
      "outputs": []
    },
    {
      "cell_type": "code",
      "source": [
        "model.summary()"
      ],
      "metadata": {
        "colab": {
          "base_uri": "https://localhost:8080/"
        },
        "id": "aT1Vj1jYLs-2",
        "outputId": "12e52d8c-a4e9-4ab8-b834-7b8022084ec6"
      },
      "execution_count": 129,
      "outputs": [
        {
          "output_type": "stream",
          "name": "stdout",
          "text": [
            "Model: \"sequential_2\"\n",
            "_________________________________________________________________\n",
            " Layer (type)                Output Shape              Param #   \n",
            "=================================================================\n",
            " lstm_6 (LSTM)               (None, 100, 50)           10400     \n",
            "                                                                 \n",
            " lstm_7 (LSTM)               (None, 100, 50)           20200     \n",
            "                                                                 \n",
            " lstm_8 (LSTM)               (None, 50)                20200     \n",
            "                                                                 \n",
            " dense_2 (Dense)             (None, 1)                 51        \n",
            "                                                                 \n",
            "=================================================================\n",
            "Total params: 50851 (198.64 KB)\n",
            "Trainable params: 50851 (198.64 KB)\n",
            "Non-trainable params: 0 (0.00 Byte)\n",
            "_________________________________________________________________\n"
          ]
        }
      ]
    },
    {
      "cell_type": "code",
      "source": [
        "model.fit(X_train,y_train,validation_data=(X_test,ytest),epochs=100,batch_size=64,verbose=1)"
      ],
      "metadata": {
        "colab": {
          "base_uri": "https://localhost:8080/"
        },
        "id": "KQhk6UBRL9t-",
        "outputId": "5aa462f9-0065-4973-f5e1-ca1c081ae89a"
      },
      "execution_count": 130,
      "outputs": [
        {
          "output_type": "stream",
          "name": "stdout",
          "text": [
            "Epoch 1/100\n",
            "12/12 [==============================] - 13s 458ms/step - loss: 0.0167 - val_loss: 0.0535\n",
            "Epoch 2/100\n",
            "12/12 [==============================] - 3s 234ms/step - loss: 0.0029 - val_loss: 0.0040\n",
            "Epoch 3/100\n",
            "12/12 [==============================] - 3s 218ms/step - loss: 9.4524e-04 - val_loss: 0.0052\n",
            "Epoch 4/100\n",
            "12/12 [==============================] - 2s 203ms/step - loss: 7.8110e-04 - val_loss: 0.0038\n",
            "Epoch 5/100\n",
            "12/12 [==============================] - 2s 203ms/step - loss: 6.6666e-04 - val_loss: 0.0037\n",
            "Epoch 6/100\n",
            "12/12 [==============================] - 5s 419ms/step - loss: 6.5183e-04 - val_loss: 0.0039\n",
            "Epoch 7/100\n",
            "12/12 [==============================] - 3s 287ms/step - loss: 6.0558e-04 - val_loss: 0.0037\n",
            "Epoch 8/100\n",
            "12/12 [==============================] - 3s 225ms/step - loss: 6.2011e-04 - val_loss: 0.0036\n",
            "Epoch 9/100\n",
            "12/12 [==============================] - 2s 202ms/step - loss: 5.9285e-04 - val_loss: 0.0036\n",
            "Epoch 10/100\n",
            "12/12 [==============================] - 3s 253ms/step - loss: 5.7858e-04 - val_loss: 0.0035\n",
            "Epoch 11/100\n",
            "12/12 [==============================] - 4s 299ms/step - loss: 6.0122e-04 - val_loss: 0.0041\n",
            "Epoch 12/100\n",
            "12/12 [==============================] - 2s 199ms/step - loss: 6.5732e-04 - val_loss: 0.0039\n",
            "Epoch 13/100\n",
            "12/12 [==============================] - 2s 199ms/step - loss: 6.6832e-04 - val_loss: 0.0032\n",
            "Epoch 14/100\n",
            "12/12 [==============================] - 2s 195ms/step - loss: 5.8457e-04 - val_loss: 0.0031\n",
            "Epoch 15/100\n",
            "12/12 [==============================] - 3s 228ms/step - loss: 5.5009e-04 - val_loss: 0.0030\n",
            "Epoch 16/100\n",
            "12/12 [==============================] - 5s 396ms/step - loss: 5.3434e-04 - val_loss: 0.0031\n",
            "Epoch 17/100\n",
            "12/12 [==============================] - 2s 198ms/step - loss: 5.7092e-04 - val_loss: 0.0038\n",
            "Epoch 18/100\n",
            "12/12 [==============================] - 2s 199ms/step - loss: 6.2070e-04 - val_loss: 0.0029\n",
            "Epoch 19/100\n",
            "12/12 [==============================] - 2s 201ms/step - loss: 5.2140e-04 - val_loss: 0.0027\n",
            "Epoch 20/100\n",
            "12/12 [==============================] - 3s 249ms/step - loss: 5.1316e-04 - val_loss: 0.0028\n",
            "Epoch 21/100\n",
            "12/12 [==============================] - 4s 306ms/step - loss: 5.0104e-04 - val_loss: 0.0025\n",
            "Epoch 22/100\n",
            "12/12 [==============================] - 2s 199ms/step - loss: 5.1103e-04 - val_loss: 0.0030\n",
            "Epoch 23/100\n",
            "12/12 [==============================] - 3s 228ms/step - loss: 5.2069e-04 - val_loss: 0.0032\n",
            "Epoch 24/100\n",
            "12/12 [==============================] - 2s 210ms/step - loss: 4.9326e-04 - val_loss: 0.0023\n",
            "Epoch 25/100\n",
            "12/12 [==============================] - 3s 250ms/step - loss: 4.5530e-04 - val_loss: 0.0021\n",
            "Epoch 26/100\n",
            "12/12 [==============================] - 4s 300ms/step - loss: 4.5506e-04 - val_loss: 0.0020\n",
            "Epoch 27/100\n",
            "12/12 [==============================] - 3s 228ms/step - loss: 4.8949e-04 - val_loss: 0.0019\n",
            "Epoch 28/100\n",
            "12/12 [==============================] - 2s 204ms/step - loss: 5.1048e-04 - val_loss: 0.0019\n",
            "Epoch 29/100\n",
            "12/12 [==============================] - 2s 198ms/step - loss: 5.1960e-04 - val_loss: 0.0021\n",
            "Epoch 30/100\n",
            "12/12 [==============================] - 3s 231ms/step - loss: 4.5236e-04 - val_loss: 0.0029\n",
            "Epoch 31/100\n",
            "12/12 [==============================] - 4s 327ms/step - loss: 4.2757e-04 - val_loss: 0.0019\n",
            "Epoch 32/100\n",
            "12/12 [==============================] - 2s 203ms/step - loss: 4.0788e-04 - val_loss: 0.0017\n",
            "Epoch 33/100\n",
            "12/12 [==============================] - 2s 196ms/step - loss: 3.9941e-04 - val_loss: 0.0019\n",
            "Epoch 34/100\n",
            "12/12 [==============================] - 3s 225ms/step - loss: 3.9509e-04 - val_loss: 0.0017\n",
            "Epoch 35/100\n",
            "12/12 [==============================] - 3s 230ms/step - loss: 3.6913e-04 - val_loss: 0.0016\n",
            "Epoch 36/100\n",
            "12/12 [==============================] - 4s 353ms/step - loss: 3.9859e-04 - val_loss: 0.0019\n",
            "Epoch 37/100\n",
            "12/12 [==============================] - 2s 200ms/step - loss: 3.6535e-04 - val_loss: 0.0015\n",
            "Epoch 38/100\n",
            "12/12 [==============================] - 2s 200ms/step - loss: 3.5255e-04 - val_loss: 0.0015\n",
            "Epoch 39/100\n",
            "12/12 [==============================] - 3s 226ms/step - loss: 3.5792e-04 - val_loss: 0.0015\n",
            "Epoch 40/100\n",
            "12/12 [==============================] - 3s 228ms/step - loss: 3.4913e-04 - val_loss: 0.0042\n",
            "Epoch 41/100\n",
            "12/12 [==============================] - 4s 344ms/step - loss: 5.2862e-04 - val_loss: 0.0016\n",
            "Epoch 42/100\n",
            "12/12 [==============================] - 3s 228ms/step - loss: 4.3759e-04 - val_loss: 0.0022\n",
            "Epoch 43/100\n",
            "12/12 [==============================] - 2s 198ms/step - loss: 3.3888e-04 - val_loss: 0.0019\n",
            "Epoch 44/100\n",
            "12/12 [==============================] - 2s 201ms/step - loss: 3.2264e-04 - val_loss: 0.0020\n",
            "Epoch 45/100\n",
            "12/12 [==============================] - 2s 208ms/step - loss: 3.3019e-04 - val_loss: 0.0016\n",
            "Epoch 46/100\n",
            "12/12 [==============================] - 4s 349ms/step - loss: 3.1424e-04 - val_loss: 0.0015\n",
            "Epoch 47/100\n",
            "12/12 [==============================] - 2s 199ms/step - loss: 3.1387e-04 - val_loss: 0.0016\n",
            "Epoch 48/100\n",
            "12/12 [==============================] - 2s 203ms/step - loss: 3.0969e-04 - val_loss: 0.0015\n",
            "Epoch 49/100\n",
            "12/12 [==============================] - 2s 199ms/step - loss: 3.1696e-04 - val_loss: 0.0015\n",
            "Epoch 50/100\n",
            "12/12 [==============================] - 2s 202ms/step - loss: 3.1820e-04 - val_loss: 0.0015\n",
            "Epoch 51/100\n",
            "12/12 [==============================] - 4s 324ms/step - loss: 3.0884e-04 - val_loss: 0.0020\n",
            "Epoch 52/100\n",
            "12/12 [==============================] - 3s 234ms/step - loss: 3.2123e-04 - val_loss: 0.0014\n",
            "Epoch 53/100\n",
            "12/12 [==============================] - 2s 207ms/step - loss: 2.9519e-04 - val_loss: 0.0018\n",
            "Epoch 54/100\n",
            "12/12 [==============================] - 2s 198ms/step - loss: 2.9142e-04 - val_loss: 0.0017\n",
            "Epoch 55/100\n",
            "12/12 [==============================] - 2s 198ms/step - loss: 2.8548e-04 - val_loss: 0.0013\n",
            "Epoch 56/100\n",
            "12/12 [==============================] - 4s 334ms/step - loss: 2.7116e-04 - val_loss: 0.0021\n",
            "Epoch 57/100\n",
            "12/12 [==============================] - 3s 205ms/step - loss: 3.2025e-04 - val_loss: 0.0018\n",
            "Epoch 58/100\n",
            "12/12 [==============================] - 3s 227ms/step - loss: 2.8184e-04 - val_loss: 0.0013\n",
            "Epoch 59/100\n",
            "12/12 [==============================] - 3s 227ms/step - loss: 2.6174e-04 - val_loss: 0.0017\n",
            "Epoch 60/100\n",
            "12/12 [==============================] - 2s 205ms/step - loss: 2.5297e-04 - val_loss: 0.0016\n",
            "Epoch 61/100\n",
            "12/12 [==============================] - 4s 341ms/step - loss: 2.5305e-04 - val_loss: 0.0012\n",
            "Epoch 62/100\n",
            "12/12 [==============================] - 3s 202ms/step - loss: 2.4518e-04 - val_loss: 0.0015\n",
            "Epoch 63/100\n",
            "12/12 [==============================] - 3s 233ms/step - loss: 2.5536e-04 - val_loss: 0.0012\n",
            "Epoch 64/100\n",
            "12/12 [==============================] - 2s 202ms/step - loss: 2.3319e-04 - val_loss: 0.0024\n",
            "Epoch 65/100\n",
            "12/12 [==============================] - 2s 200ms/step - loss: 2.7370e-04 - val_loss: 0.0012\n",
            "Epoch 66/100\n",
            "12/12 [==============================] - 4s 341ms/step - loss: 2.2986e-04 - val_loss: 0.0022\n",
            "Epoch 67/100\n",
            "12/12 [==============================] - 2s 204ms/step - loss: 2.5499e-04 - val_loss: 0.0012\n",
            "Epoch 68/100\n",
            "12/12 [==============================] - 2s 206ms/step - loss: 2.3645e-04 - val_loss: 0.0013\n",
            "Epoch 69/100\n",
            "12/12 [==============================] - 2s 203ms/step - loss: 2.2035e-04 - val_loss: 0.0012\n",
            "Epoch 70/100\n",
            "12/12 [==============================] - 2s 199ms/step - loss: 2.0636e-04 - val_loss: 0.0011\n",
            "Epoch 71/100\n",
            "12/12 [==============================] - 4s 329ms/step - loss: 2.0633e-04 - val_loss: 0.0013\n",
            "Epoch 72/100\n",
            "12/12 [==============================] - 3s 230ms/step - loss: 2.1338e-04 - val_loss: 0.0013\n",
            "Epoch 73/100\n",
            "12/12 [==============================] - 2s 198ms/step - loss: 1.9847e-04 - val_loss: 0.0012\n",
            "Epoch 74/100\n",
            "12/12 [==============================] - 2s 203ms/step - loss: 1.9916e-04 - val_loss: 0.0011\n",
            "Epoch 75/100\n",
            "12/12 [==============================] - 2s 207ms/step - loss: 2.0405e-04 - val_loss: 0.0012\n",
            "Epoch 76/100\n",
            "12/12 [==============================] - 4s 322ms/step - loss: 1.9567e-04 - val_loss: 0.0023\n",
            "Epoch 77/100\n",
            "12/12 [==============================] - 3s 213ms/step - loss: 2.1058e-04 - val_loss: 0.0012\n",
            "Epoch 78/100\n",
            "12/12 [==============================] - 2s 207ms/step - loss: 1.9566e-04 - val_loss: 0.0011\n",
            "Epoch 79/100\n",
            "12/12 [==============================] - 2s 210ms/step - loss: 2.0376e-04 - val_loss: 0.0013\n",
            "Epoch 80/100\n",
            "12/12 [==============================] - 2s 200ms/step - loss: 1.9256e-04 - val_loss: 0.0011\n",
            "Epoch 81/100\n",
            "12/12 [==============================] - 4s 327ms/step - loss: 1.6846e-04 - val_loss: 9.5627e-04\n",
            "Epoch 82/100\n",
            "12/12 [==============================] - 3s 212ms/step - loss: 1.7078e-04 - val_loss: 0.0013\n",
            "Epoch 83/100\n",
            "12/12 [==============================] - 2s 202ms/step - loss: 1.7489e-04 - val_loss: 0.0012\n",
            "Epoch 84/100\n",
            "12/12 [==============================] - 2s 200ms/step - loss: 1.7318e-04 - val_loss: 9.1041e-04\n",
            "Epoch 85/100\n",
            "12/12 [==============================] - 2s 207ms/step - loss: 1.8329e-04 - val_loss: 0.0020\n",
            "Epoch 86/100\n",
            "12/12 [==============================] - 4s 314ms/step - loss: 2.5284e-04 - val_loss: 0.0012\n",
            "Epoch 87/100\n",
            "12/12 [==============================] - 3s 206ms/step - loss: 1.6188e-04 - val_loss: 9.1960e-04\n",
            "Epoch 88/100\n",
            "12/12 [==============================] - 2s 200ms/step - loss: 1.6859e-04 - val_loss: 0.0020\n",
            "Epoch 89/100\n",
            "12/12 [==============================] - 3s 228ms/step - loss: 2.6874e-04 - val_loss: 8.6849e-04\n",
            "Epoch 90/100\n",
            "12/12 [==============================] - 3s 237ms/step - loss: 1.7313e-04 - val_loss: 8.6735e-04\n",
            "Epoch 91/100\n",
            "12/12 [==============================] - 4s 339ms/step - loss: 1.4939e-04 - val_loss: 8.6514e-04\n",
            "Epoch 92/100\n",
            "12/12 [==============================] - 2s 209ms/step - loss: 1.4558e-04 - val_loss: 8.1762e-04\n",
            "Epoch 93/100\n",
            "12/12 [==============================] - 2s 206ms/step - loss: 1.6049e-04 - val_loss: 8.2093e-04\n",
            "Epoch 94/100\n",
            "12/12 [==============================] - 2s 199ms/step - loss: 1.7940e-04 - val_loss: 0.0013\n",
            "Epoch 95/100\n",
            "12/12 [==============================] - 2s 200ms/step - loss: 1.7455e-04 - val_loss: 8.1298e-04\n",
            "Epoch 96/100\n",
            "12/12 [==============================] - 4s 344ms/step - loss: 1.5770e-04 - val_loss: 0.0011\n",
            "Epoch 97/100\n",
            "12/12 [==============================] - 3s 211ms/step - loss: 1.4673e-04 - val_loss: 9.1193e-04\n",
            "Epoch 98/100\n",
            "12/12 [==============================] - 2s 199ms/step - loss: 1.4240e-04 - val_loss: 7.8446e-04\n",
            "Epoch 99/100\n",
            "12/12 [==============================] - 2s 204ms/step - loss: 1.4125e-04 - val_loss: 9.0966e-04\n",
            "Epoch 100/100\n",
            "12/12 [==============================] - 2s 206ms/step - loss: 1.4672e-04 - val_loss: 8.7599e-04\n"
          ]
        },
        {
          "output_type": "execute_result",
          "data": {
            "text/plain": [
              "<keras.src.callbacks.History at 0x7c3368f8c820>"
            ]
          },
          "metadata": {},
          "execution_count": 130
        }
      ]
    },
    {
      "cell_type": "code",
      "source": [
        "import tensorflow as tf"
      ],
      "metadata": {
        "id": "yYG5pL0MNMwC"
      },
      "execution_count": 131,
      "outputs": []
    },
    {
      "cell_type": "code",
      "source": [
        "train_predict=model.predict(X_train)\n",
        "test_predict=model.predict(X_test)"
      ],
      "metadata": {
        "colab": {
          "base_uri": "https://localhost:8080/"
        },
        "id": "I4bchbfHNQCA",
        "outputId": "7f230f65-813c-4872-995d-4d0042b2c93a"
      },
      "execution_count": 132,
      "outputs": [
        {
          "output_type": "stream",
          "name": "stdout",
          "text": [
            "23/23 [==============================] - 3s 45ms/step\n",
            "11/11 [==============================] - 0s 41ms/step\n"
          ]
        }
      ]
    },
    {
      "cell_type": "code",
      "source": [
        "train_predict=scaler.inverse_transform(train_predict)\n",
        "test_predict=scaler.inverse_transform(test_predict)"
      ],
      "metadata": {
        "id": "fMRyASPNNVF1"
      },
      "execution_count": 133,
      "outputs": []
    },
    {
      "cell_type": "code",
      "source": [
        "import math\n",
        "from sklearn.metrics import mean_squared_error\n",
        "math.sqrt(mean_squared_error(y_train,train_predict))"
      ],
      "metadata": {
        "colab": {
          "base_uri": "https://localhost:8080/"
        },
        "id": "10E52k3KNZEa",
        "outputId": "395319ab-e49e-495b-af51-bc7df8a24568"
      },
      "execution_count": 134,
      "outputs": [
        {
          "output_type": "execute_result",
          "data": {
            "text/plain": [
              "141.1379665403685"
            ]
          },
          "metadata": {},
          "execution_count": 134
        }
      ]
    },
    {
      "cell_type": "code",
      "source": [
        "math.sqrt(mean_squared_error(ytest,test_predict))"
      ],
      "metadata": {
        "colab": {
          "base_uri": "https://localhost:8080/"
        },
        "id": "ZoBcSiKBNeWF",
        "outputId": "8a3bf4fb-bad3-4381-d3b8-fa1160dc1c14"
      },
      "execution_count": 135,
      "outputs": [
        {
          "output_type": "execute_result",
          "data": {
            "text/plain": [
              "235.67089220526125"
            ]
          },
          "metadata": {},
          "execution_count": 135
        }
      ]
    },
    {
      "cell_type": "code",
      "source": [
        "look_back=100\n",
        "trainPredictPlot = numpy.empty_like(df1)\n",
        "trainPredictPlot[:, :] = np.nan\n",
        "trainPredictPlot[look_back:len(train_predict)+look_back, :] = train_predict\n",
        "# shift test predictions for plotting\n",
        "testPredictPlot = numpy.empty_like(df1)\n",
        "testPredictPlot[:, :] = numpy.nan\n",
        "testPredictPlot[len(train_predict)+(look_back*2)+1:len(df1)-1, :] = test_predict\n",
        "# plot baseline and predictions\n",
        "plt.plot(scaler.inverse_transform(df1))\n",
        "plt.plot(trainPredictPlot)\n",
        "plt.plot(testPredictPlot)\n",
        "plt.show()"
      ],
      "metadata": {
        "colab": {
          "base_uri": "https://localhost:8080/",
          "height": 430
        },
        "id": "2EHQ-TExNh22",
        "outputId": "0fa751a1-70da-4262-958f-20d1c9c8daba"
      },
      "execution_count": 136,
      "outputs": [
        {
          "output_type": "display_data",
          "data": {
            "text/plain": [
              "<Figure size 640x480 with 1 Axes>"
            ],
            "image/png": "[encoded data removed]"
          },
          "metadata": {}
        }
      ]
    },
    {
      "cell_type": "code",
      "source": [
        "len(test_data)"
      ],
      "metadata": {
        "colab": {
          "base_uri": "https://localhost:8080/"
        },
        "id": "a4B2Dvm4OOxT",
        "outputId": "56022007-85e1-472e-c216-f691643a24f1"
      },
      "execution_count": 137,
      "outputs": [
        {
          "output_type": "execute_result",
          "data": {
            "text/plain": [
              "441"
            ]
          },
          "metadata": {},
          "execution_count": 137
        }
      ]
    },
    {
      "cell_type": "code",
      "source": [
        "x_input=test_data[341:].reshape(1,-1)\n",
        "x_input.shape"
      ],
      "metadata": {
        "colab": {
          "base_uri": "https://localhost:8080/"
        },
        "id": "aQ7m9wyGOSla",
        "outputId": "2c4953e9-fbf6-47b7-9a38-66a7e4913976"
      },
      "execution_count": 138,
      "outputs": [
        {
          "output_type": "execute_result",
          "data": {
            "text/plain": [
              "(1, 100)"
            ]
          },
          "metadata": {},
          "execution_count": 138
        }
      ]
    },
    {
      "cell_type": "code",
      "source": [
        "temp_input=list(x_input)\n",
        "temp_input=temp_input[0].tolist()"
      ],
      "metadata": {
        "id": "R89z8OyCOT1N"
      },
      "execution_count": 139,
      "outputs": []
    },
    {
      "cell_type": "code",
      "source": [
        "temp_input"
      ],
      "metadata": {
        "colab": {
          "base_uri": "https://localhost:8080/"
        },
        "id": "zFrBavfLOYDr",
        "outputId": "edcff5ec-d2a0-4e26-e749-ca09e391489e"
      },
      "execution_count": 140,
      "outputs": [
        {
          "output_type": "execute_result",
          "data": {
            "text/plain": [
              "[0.8583551465000423,\n",
              " 0.8866418981676942,\n",
              " 0.8743139407244789,\n",
              " 0.8843198513890065,\n",
              " 0.8783669678290975,\n",
              " 0.8986321033521913,\n",
              " 0.925821160179009,\n",
              " 0.9287764924427933,\n",
              " 0.9567677108840666,\n",
              " 0.9386979650426415,\n",
              " 0.933040614709111,\n",
              " 0.9495060373216249,\n",
              " 0.9642404796082076,\n",
              " 0.9551211686228154,\n",
              " 0.9598919192772104,\n",
              " 0.9663514312251966,\n",
              " 0.9624672802499368,\n",
              " 0.9229502659799038,\n",
              " 0.9598497002448705,\n",
              " 0.9879253567508233,\n",
              " 0.985941062230854,\n",
              " 0.9253145317909315,\n",
              " 0.9217259140420504,\n",
              " 0.964747107996285,\n",
              " 0.9757240564046274,\n",
              " 0.9915984125643842,\n",
              " 0.9697289538123788,\n",
              " 0.9761462467280253,\n",
              " 0.9679557544541082,\n",
              " 1.0000000000000002,\n",
              " 0.9901629654648318,\n",
              " 0.9905007177235499,\n",
              " 0.9653803934813816,\n",
              " 0.9848855864223593,\n",
              " 0.9708688676855528,\n",
              " 0.9402600692392133,\n",
              " 0.8774803681499621,\n",
              " 0.8348391454867856,\n",
              " 0.8541332432660644,\n",
              " 0.7733682344000676,\n",
              " 0.7726927298826314,\n",
              " 0.8801401671873683,\n",
              " 0.8400743054969182,\n",
              " 0.8967322468969012,\n",
              " 0.8552731571392387,\n",
              " 0.8388499535590646,\n",
              " 0.7423372456303303,\n",
              " 0.8232711306256861,\n",
              " 0.7814320695769654,\n",
              " 0.6665963016127672,\n",
              " 0.7921557037912694,\n",
              " 0.6411804441442204,\n",
              " 0.6861437135860848,\n",
              " 0.6600101325677616,\n",
              " 0.6520307354555435,\n",
              " 0.5864223591995272,\n",
              " 0.5658616904500551,\n",
              " 0.660896732246897,\n",
              " 0.6551549438486872,\n",
              " 0.7097019336316812,\n",
              " 0.664527569028118,\n",
              " 0.6943764248923416,\n",
              " 0.692181035210673,\n",
              " 0.6356919699400492,\n",
              " 0.6526640209406402,\n",
              " 0.637802921557038,\n",
              " 0.7267162036646122,\n",
              " 0.7138816178333194,\n",
              " 0.7419150553069325,\n",
              " 0.7500211095161702,\n",
              " 0.7722283205268936,\n",
              " 0.8304905851557884,\n",
              " 0.8194291986827664,\n",
              " 0.8289706999915563,\n",
              " 0.8125474964113824,\n",
              " 0.7877649244279323,\n",
              " 0.7516254327450818,\n",
              " 0.7842607447437306,\n",
              " 0.7797433082833742,\n",
              " 0.8132652199611587,\n",
              " 0.8141096006079542,\n",
              " 0.7947310647639958,\n",
              " 0.8333614793548934,\n",
              " 0.8589884319851391,\n",
              " 0.8390188296884238,\n",
              " 0.8562864139153934,\n",
              " 0.8748627881448958,\n",
              " 0.887824031073208,\n",
              " 0.9009541501308793,\n",
              " 0.9279321117959978,\n",
              " 0.9485349995778098,\n",
              " 0.9333361479354896,\n",
              " 0.9174617917757326,\n",
              " 0.925441188887951,\n",
              " 0.9177151059697712,\n",
              " 0.9483239044161109,\n",
              " 0.9406400405302711,\n",
              " 0.9663514312251966,\n",
              " 0.9563033015283293,\n",
              " 0.964915984125644]"
            ]
          },
          "metadata": {},
          "execution_count": 140
        }
      ]
    },
    {
      "cell_type": "code",
      "source": [
        "from numpy import array\n",
        "\n",
        "lst_output=[]\n",
        "n_steps=100\n",
        "i=0\n",
        "while(i<30):\n",
        "\n",
        "    if(len(temp_input)>100):\n",
        "        #print(temp_input)\n",
        "        x_input=np.array(temp_input[1:])\n",
        "        print(\"{} day input {}\".format(i,x_input))\n",
        "        x_input=x_input.reshape(1,-1)\n",
        "        x_input = x_input.reshape((1, n_steps, 1))\n",
        "        #print(x_input)\n",
        "        yhat = model.predict(x_input, verbose=0)\n",
        "        print(\"{} day output {}\".format(i,yhat))\n",
        "        temp_input.extend(yhat[0].tolist())\n",
        "        temp_input=temp_input[1:]\n",
        "        #print(temp_input)\n",
        "        lst_output.extend(yhat.tolist())\n",
        "        i=i+1\n",
        "    else:\n",
        "        x_input = x_input.reshape((1, n_steps,1))\n",
        "        yhat = model.predict(x_input, verbose=0)\n",
        "        print(yhat[0])\n",
        "        temp_input.extend(yhat[0].tolist())\n",
        "        print(len(temp_input))\n",
        "        lst_output.extend(yhat.tolist())\n",
        "        i=i+1\n",
        "\n",
        "\n",
        "print(lst_output)"
      ],
      "metadata": {
        "colab": {
          "base_uri": "https://localhost:8080/"
        },
        "id": "JTiszf03OaEl",
        "outputId": "7dc7b4ab-c1df-4c08-e0da-8eb99d3667f2"
      },
      "execution_count": 141,
      "outputs": [
        {
          "output_type": "stream",
          "name": "stdout",
          "text": [
            "[0.94066477]\n",
            "101\n",
            "1 day input [0.8866419  0.87431394 0.88431985 0.87836697 0.8986321  0.92582116\n",
            " 0.92877649 0.95676771 0.93869797 0.93304061 0.94950604 0.96424048\n",
            " 0.95512117 0.95989192 0.96635143 0.96246728 0.92295027 0.9598497\n",
            " 0.98792536 0.98594106 0.92531453 0.92172591 0.96474711 0.97572406\n",
            " 0.99159841 0.96972895 0.97614625 0.96795575 1.         0.99016297\n",
            " 0.99050072 0.96538039 0.98488559 0.97086887 0.94026007 0.87748037\n",
            " 0.83483915 0.85413324 0.77336823 0.77269273 0.88014017 0.84007431\n",
            " 0.89673225 0.85527316 0.83884995 0.74233725 0.82327113 0.78143207\n",
            " 0.6665963  0.7921557  0.64118044 0.68614371 0.66001013 0.65203074\n",
            " 0.58642236 0.56586169 0.66089673 0.65515494 0.70970193 0.66452757\n",
            " 0.69437642 0.69218104 0.63569197 0.65266402 0.63780292 0.7267162\n",
            " 0.71388162 0.74191506 0.75002111 0.77222832 0.83049059 0.8194292\n",
            " 0.8289707  0.8125475  0.78776492 0.75162543 0.78426074 0.77974331\n",
            " 0.81326522 0.8141096  0.79473106 0.83336148 0.85898843 0.83901883\n",
            " 0.85628641 0.87486279 0.88782403 0.90095415 0.92793211 0.948535\n",
            " 0.93333615 0.91746179 0.92544119 0.91771511 0.9483239  0.94064004\n",
            " 0.96635143 0.9563033  0.96491598 0.94066477]\n",
            "1 day output [[0.9296583]]\n",
            "2 day input [0.87431394 0.88431985 0.87836697 0.8986321  0.92582116 0.92877649\n",
            " 0.95676771 0.93869797 0.93304061 0.94950604 0.96424048 0.95512117\n",
            " 0.95989192 0.96635143 0.96246728 0.92295027 0.9598497  0.98792536\n",
            " 0.98594106 0.92531453 0.92172591 0.96474711 0.97572406 0.99159841\n",
            " 0.96972895 0.97614625 0.96795575 1.         0.99016297 0.99050072\n",
            " 0.96538039 0.98488559 0.97086887 0.94026007 0.87748037 0.83483915\n",
            " 0.85413324 0.77336823 0.77269273 0.88014017 0.84007431 0.89673225\n",
            " 0.85527316 0.83884995 0.74233725 0.82327113 0.78143207 0.6665963\n",
            " 0.7921557  0.64118044 0.68614371 0.66001013 0.65203074 0.58642236\n",
            " 0.56586169 0.66089673 0.65515494 0.70970193 0.66452757 0.69437642\n",
            " 0.69218104 0.63569197 0.65266402 0.63780292 0.7267162  0.71388162\n",
            " 0.74191506 0.75002111 0.77222832 0.83049059 0.8194292  0.8289707\n",
            " 0.8125475  0.78776492 0.75162543 0.78426074 0.77974331 0.81326522\n",
            " 0.8141096  0.79473106 0.83336148 0.85898843 0.83901883 0.85628641\n",
            " 0.87486279 0.88782403 0.90095415 0.92793211 0.948535   0.93333615\n",
            " 0.91746179 0.92544119 0.91771511 0.9483239  0.94064004 0.96635143\n",
            " 0.9563033  0.96491598 0.94066477 0.92965829]\n",
            "2 day output [[0.91470236]]\n",
            "3 day input [0.88431985 0.87836697 0.8986321  0.92582116 0.92877649 0.95676771\n",
            " 0.93869797 0.93304061 0.94950604 0.96424048 0.95512117 0.95989192\n",
            " 0.96635143 0.96246728 0.92295027 0.9598497  0.98792536 0.98594106\n",
            " 0.92531453 0.92172591 0.96474711 0.97572406 0.99159841 0.96972895\n",
            " 0.97614625 0.96795575 1.         0.99016297 0.99050072 0.96538039\n",
            " 0.98488559 0.97086887 0.94026007 0.87748037 0.83483915 0.85413324\n",
            " 0.77336823 0.77269273 0.88014017 0.84007431 0.89673225 0.85527316\n",
            " 0.83884995 0.74233725 0.82327113 0.78143207 0.6665963  0.7921557\n",
            " 0.64118044 0.68614371 0.66001013 0.65203074 0.58642236 0.56586169\n",
            " 0.66089673 0.65515494 0.70970193 0.66452757 0.69437642 0.69218104\n",
            " 0.63569197 0.65266402 0.63780292 0.7267162  0.71388162 0.74191506\n",
            " 0.75002111 0.77222832 0.83049059 0.8194292  0.8289707  0.8125475\n",
            " 0.78776492 0.75162543 0.78426074 0.77974331 0.81326522 0.8141096\n",
            " 0.79473106 0.83336148 0.85898843 0.83901883 0.85628641 0.87486279\n",
            " 0.88782403 0.90095415 0.92793211 0.948535   0.93333615 0.91746179\n",
            " 0.92544119 0.91771511 0.9483239  0.94064004 0.96635143 0.9563033\n",
            " 0.96491598 0.94066477 0.92965829 0.91470236]\n",
            "3 day output [[0.90049505]]\n",
            "4 day input [0.87836697 0.8986321  0.92582116 0.92877649 0.95676771 0.93869797\n",
            " 0.93304061 0.94950604 0.96424048 0.95512117 0.95989192 0.96635143\n",
            " 0.96246728 0.92295027 0.9598497  0.98792536 0.98594106 0.92531453\n",
            " 0.92172591 0.96474711 0.97572406 0.99159841 0.96972895 0.97614625\n",
            " 0.96795575 1.         0.99016297 0.99050072 0.96538039 0.98488559\n",
            " 0.97086887 0.94026007 0.87748037 0.83483915 0.85413324 0.77336823\n",
            " 0.77269273 0.88014017 0.84007431 0.89673225 0.85527316 0.83884995\n",
            " 0.74233725 0.82327113 0.78143207 0.6665963  0.7921557  0.64118044\n",
            " 0.68614371 0.66001013 0.65203074 0.58642236 0.56586169 0.66089673\n",
            " 0.65515494 0.70970193 0.66452757 0.69437642 0.69218104 0.63569197\n",
            " 0.65266402 0.63780292 0.7267162  0.71388162 0.74191506 0.75002111\n",
            " 0.77222832 0.83049059 0.8194292  0.8289707  0.8125475  0.78776492\n",
            " 0.75162543 0.78426074 0.77974331 0.81326522 0.8141096  0.79473106\n",
            " 0.83336148 0.85898843 0.83901883 0.85628641 0.87486279 0.88782403\n",
            " 0.90095415 0.92793211 0.948535   0.93333615 0.91746179 0.92544119\n",
            " 0.91771511 0.9483239  0.94064004 0.96635143 0.9563033  0.96491598\n",
            " 0.94066477 0.92965829 0.91470236 0.90049505]\n",
            "4 day output [[0.8887523]]\n",
            "5 day input [0.8986321  0.92582116 0.92877649 0.95676771 0.93869797 0.93304061\n",
            " 0.94950604 0.96424048 0.95512117 0.95989192 0.96635143 0.96246728\n",
            " 0.92295027 0.9598497  0.98792536 0.98594106 0.92531453 0.92172591\n",
            " 0.96474711 0.97572406 0.99159841 0.96972895 0.97614625 0.96795575\n",
            " 1.         0.99016297 0.99050072 0.96538039 0.98488559 0.97086887\n",
            " 0.94026007 0.87748037 0.83483915 0.85413324 0.77336823 0.77269273\n",
            " 0.88014017 0.84007431 0.89673225 0.85527316 0.83884995 0.74233725\n",
            " 0.82327113 0.78143207 0.6665963  0.7921557  0.64118044 0.68614371\n",
            " 0.66001013 0.65203074 0.58642236 0.56586169 0.66089673 0.65515494\n",
            " 0.70970193 0.66452757 0.69437642 0.69218104 0.63569197 0.65266402\n",
            " 0.63780292 0.7267162  0.71388162 0.74191506 0.75002111 0.77222832\n",
            " 0.83049059 0.8194292  0.8289707  0.8125475  0.78776492 0.75162543\n",
            " 0.78426074 0.77974331 0.81326522 0.8141096  0.79473106 0.83336148\n",
            " 0.85898843 0.83901883 0.85628641 0.87486279 0.88782403 0.90095415\n",
            " 0.92793211 0.948535   0.93333615 0.91746179 0.92544119 0.91771511\n",
            " 0.9483239  0.94064004 0.96635143 0.9563033  0.96491598 0.94066477\n",
            " 0.92965829 0.91470236 0.90049505 0.88875228]\n",
            "5 day output [[0.8800162]]\n",
            "6 day input [0.92582116 0.92877649 0.95676771 0.93869797 0.93304061 0.94950604\n",
            " 0.96424048 0.95512117 0.95989192 0.96635143 0.96246728 0.92295027\n",
            " 0.9598497  0.98792536 0.98594106 0.92531453 0.92172591 0.96474711\n",
            " 0.97572406 0.99159841 0.96972895 0.97614625 0.96795575 1.\n",
            " 0.99016297 0.99050072 0.96538039 0.98488559 0.97086887 0.94026007\n",
            " 0.87748037 0.83483915 0.85413324 0.77336823 0.77269273 0.88014017\n",
            " 0.84007431 0.89673225 0.85527316 0.83884995 0.74233725 0.82327113\n",
            " 0.78143207 0.6665963  0.7921557  0.64118044 0.68614371 0.66001013\n",
            " 0.65203074 0.58642236 0.56586169 0.66089673 0.65515494 0.70970193\n",
            " 0.66452757 0.69437642 0.69218104 0.63569197 0.65266402 0.63780292\n",
            " 0.7267162  0.71388162 0.74191506 0.75002111 0.77222832 0.83049059\n",
            " 0.8194292  0.8289707  0.8125475  0.78776492 0.75162543 0.78426074\n",
            " 0.77974331 0.81326522 0.8141096  0.79473106 0.83336148 0.85898843\n",
            " 0.83901883 0.85628641 0.87486279 0.88782403 0.90095415 0.92793211\n",
            " 0.948535   0.93333615 0.91746179 0.92544119 0.91771511 0.9483239\n",
            " 0.94064004 0.96635143 0.9563033  0.96491598 0.94066477 0.92965829\n",
            " 0.91470236 0.90049505 0.88875228 0.88001621]\n",
            "6 day output [[0.87422305]]\n",
            "7 day input [0.92877649 0.95676771 0.93869797 0.93304061 0.94950604 0.96424048\n",
            " 0.95512117 0.95989192 0.96635143 0.96246728 0.92295027 0.9598497\n",
            " 0.98792536 0.98594106 0.92531453 0.92172591 0.96474711 0.97572406\n",
            " 0.99159841 0.96972895 0.97614625 0.96795575 1.         0.99016297\n",
            " 0.99050072 0.96538039 0.98488559 0.97086887 0.94026007 0.87748037\n",
            " 0.83483915 0.85413324 0.77336823 0.77269273 0.88014017 0.84007431\n",
            " 0.89673225 0.85527316 0.83884995 0.74233725 0.82327113 0.78143207\n",
            " 0.6665963  0.7921557  0.64118044 0.68614371 0.66001013 0.65203074\n",
            " 0.58642236 0.56586169 0.66089673 0.65515494 0.70970193 0.66452757\n",
            " 0.69437642 0.69218104 0.63569197 0.65266402 0.63780292 0.7267162\n",
            " 0.71388162 0.74191506 0.75002111 0.77222832 0.83049059 0.8194292\n",
            " 0.8289707  0.8125475  0.78776492 0.75162543 0.78426074 0.77974331\n",
            " 0.81326522 0.8141096  0.79473106 0.83336148 0.85898843 0.83901883\n",
            " 0.85628641 0.87486279 0.88782403 0.90095415 0.92793211 0.948535\n",
            " 0.93333615 0.91746179 0.92544119 0.91771511 0.9483239  0.94064004\n",
            " 0.96635143 0.9563033  0.96491598 0.94066477 0.92965829 0.91470236\n",
            " 0.90049505 0.88875228 0.88001621 0.87422305]\n",
            "7 day output [[0.8709049]]\n",
            "8 day input [0.95676771 0.93869797 0.93304061 0.94950604 0.96424048 0.95512117\n",
            " 0.95989192 0.96635143 0.96246728 0.92295027 0.9598497  0.98792536\n",
            " 0.98594106 0.92531453 0.92172591 0.96474711 0.97572406 0.99159841\n",
            " 0.96972895 0.97614625 0.96795575 1.         0.99016297 0.99050072\n",
            " 0.96538039 0.98488559 0.97086887 0.94026007 0.87748037 0.83483915\n",
            " 0.85413324 0.77336823 0.77269273 0.88014017 0.84007431 0.89673225\n",
            " 0.85527316 0.83884995 0.74233725 0.82327113 0.78143207 0.6665963\n",
            " 0.7921557  0.64118044 0.68614371 0.66001013 0.65203074 0.58642236\n",
            " 0.56586169 0.66089673 0.65515494 0.70970193 0.66452757 0.69437642\n",
            " 0.69218104 0.63569197 0.65266402 0.63780292 0.7267162  0.71388162\n",
            " 0.74191506 0.75002111 0.77222832 0.83049059 0.8194292  0.8289707\n",
            " 0.8125475  0.78776492 0.75162543 0.78426074 0.77974331 0.81326522\n",
            " 0.8141096  0.79473106 0.83336148 0.85898843 0.83901883 0.85628641\n",
            " 0.87486279 0.88782403 0.90095415 0.92793211 0.948535   0.93333615\n",
            " 0.91746179 0.92544119 0.91771511 0.9483239  0.94064004 0.96635143\n",
            " 0.9563033  0.96491598 0.94066477 0.92965829 0.91470236 0.90049505\n",
            " 0.88875228 0.88001621 0.87422305 0.87090492]\n",
            "8 day output [[0.8693546]]\n",
            "9 day input [0.93869797 0.93304061 0.94950604 0.96424048 0.95512117 0.95989192\n",
            " 0.96635143 0.96246728 0.92295027 0.9598497  0.98792536 0.98594106\n",
            " 0.92531453 0.92172591 0.96474711 0.97572406 0.99159841 0.96972895\n",
            " 0.97614625 0.96795575 1.         0.99016297 0.99050072 0.96538039\n",
            " 0.98488559 0.97086887 0.94026007 0.87748037 0.83483915 0.85413324\n",
            " 0.77336823 0.77269273 0.88014017 0.84007431 0.89673225 0.85527316\n",
            " 0.83884995 0.74233725 0.82327113 0.78143207 0.6665963  0.7921557\n",
            " 0.64118044 0.68614371 0.66001013 0.65203074 0.58642236 0.56586169\n",
            " 0.66089673 0.65515494 0.70970193 0.66452757 0.69437642 0.69218104\n",
            " 0.63569197 0.65266402 0.63780292 0.7267162  0.71388162 0.74191506\n",
            " 0.75002111 0.77222832 0.83049059 0.8194292  0.8289707  0.8125475\n",
            " 0.78776492 0.75162543 0.78426074 0.77974331 0.81326522 0.8141096\n",
            " 0.79473106 0.83336148 0.85898843 0.83901883 0.85628641 0.87486279\n",
            " 0.88782403 0.90095415 0.92793211 0.948535   0.93333615 0.91746179\n",
            " 0.92544119 0.91771511 0.9483239  0.94064004 0.96635143 0.9563033\n",
            " 0.96491598 0.94066477 0.92965829 0.91470236 0.90049505 0.88875228\n",
            " 0.88001621 0.87422305 0.87090492 0.86935461]\n",
            "9 day output [[0.8687874]]\n",
            "10 day input [0.93304061 0.94950604 0.96424048 0.95512117 0.95989192 0.96635143\n",
            " 0.96246728 0.92295027 0.9598497  0.98792536 0.98594106 0.92531453\n",
            " 0.92172591 0.96474711 0.97572406 0.99159841 0.96972895 0.97614625\n",
            " 0.96795575 1.         0.99016297 0.99050072 0.96538039 0.98488559\n",
            " 0.97086887 0.94026007 0.87748037 0.83483915 0.85413324 0.77336823\n",
            " 0.77269273 0.88014017 0.84007431 0.89673225 0.85527316 0.83884995\n",
            " 0.74233725 0.82327113 0.78143207 0.6665963  0.7921557  0.64118044\n",
            " 0.68614371 0.66001013 0.65203074 0.58642236 0.56586169 0.66089673\n",
            " 0.65515494 0.70970193 0.66452757 0.69437642 0.69218104 0.63569197\n",
            " 0.65266402 0.63780292 0.7267162  0.71388162 0.74191506 0.75002111\n",
            " 0.77222832 0.83049059 0.8194292  0.8289707  0.8125475  0.78776492\n",
            " 0.75162543 0.78426074 0.77974331 0.81326522 0.8141096  0.79473106\n",
            " 0.83336148 0.85898843 0.83901883 0.85628641 0.87486279 0.88782403\n",
            " 0.90095415 0.92793211 0.948535   0.93333615 0.91746179 0.92544119\n",
            " 0.91771511 0.9483239  0.94064004 0.96635143 0.9563033  0.96491598\n",
            " 0.94066477 0.92965829 0.91470236 0.90049505 0.88875228 0.88001621\n",
            " 0.87422305 0.87090492 0.86935461 0.86878741]\n",
            "10 day output [[0.868483]]\n",
            "11 day input [0.94950604 0.96424048 0.95512117 0.95989192 0.96635143 0.96246728\n",
            " 0.92295027 0.9598497  0.98792536 0.98594106 0.92531453 0.92172591\n",
            " 0.96474711 0.97572406 0.99159841 0.96972895 0.97614625 0.96795575\n",
            " 1.         0.99016297 0.99050072 0.96538039 0.98488559 0.97086887\n",
            " 0.94026007 0.87748037 0.83483915 0.85413324 0.77336823 0.77269273\n",
            " 0.88014017 0.84007431 0.89673225 0.85527316 0.83884995 0.74233725\n",
            " 0.82327113 0.78143207 0.6665963  0.7921557  0.64118044 0.68614371\n",
            " 0.66001013 0.65203074 0.58642236 0.56586169 0.66089673 0.65515494\n",
            " 0.70970193 0.66452757 0.69437642 0.69218104 0.63569197 0.65266402\n",
            " 0.63780292 0.7267162  0.71388162 0.74191506 0.75002111 0.77222832\n",
            " 0.83049059 0.8194292  0.8289707  0.8125475  0.78776492 0.75162543\n",
            " 0.78426074 0.77974331 0.81326522 0.8141096  0.79473106 0.83336148\n",
            " 0.85898843 0.83901883 0.85628641 0.87486279 0.88782403 0.90095415\n",
            " 0.92793211 0.948535   0.93333615 0.91746179 0.92544119 0.91771511\n",
            " 0.9483239  0.94064004 0.96635143 0.9563033  0.96491598 0.94066477\n",
            " 0.92965829 0.91470236 0.90049505 0.88875228 0.88001621 0.87422305\n",
            " 0.87090492 0.86935461 0.86878741 0.86848301]\n",
            "11 day output [[0.8678858]]\n",
            "12 day input [0.96424048 0.95512117 0.95989192 0.96635143 0.96246728 0.92295027\n",
            " 0.9598497  0.98792536 0.98594106 0.92531453 0.92172591 0.96474711\n",
            " 0.97572406 0.99159841 0.96972895 0.97614625 0.96795575 1.\n",
            " 0.99016297 0.99050072 0.96538039 0.98488559 0.97086887 0.94026007\n",
            " 0.87748037 0.83483915 0.85413324 0.77336823 0.77269273 0.88014017\n",
            " 0.84007431 0.89673225 0.85527316 0.83884995 0.74233725 0.82327113\n",
            " 0.78143207 0.6665963  0.7921557  0.64118044 0.68614371 0.66001013\n",
            " 0.65203074 0.58642236 0.56586169 0.66089673 0.65515494 0.70970193\n",
            " 0.66452757 0.69437642 0.69218104 0.63569197 0.65266402 0.63780292\n",
            " 0.7267162  0.71388162 0.74191506 0.75002111 0.77222832 0.83049059\n",
            " 0.8194292  0.8289707  0.8125475  0.78776492 0.75162543 0.78426074\n",
            " 0.77974331 0.81326522 0.8141096  0.79473106 0.83336148 0.85898843\n",
            " 0.83901883 0.85628641 0.87486279 0.88782403 0.90095415 0.92793211\n",
            " 0.948535   0.93333615 0.91746179 0.92544119 0.91771511 0.9483239\n",
            " 0.94064004 0.96635143 0.9563033  0.96491598 0.94066477 0.92965829\n",
            " 0.91470236 0.90049505 0.88875228 0.88001621 0.87422305 0.87090492\n",
            " 0.86935461 0.86878741 0.86848301 0.86788583]\n",
            "12 day output [[0.8666639]]\n",
            "13 day input [0.95512117 0.95989192 0.96635143 0.96246728 0.92295027 0.9598497\n",
            " 0.98792536 0.98594106 0.92531453 0.92172591 0.96474711 0.97572406\n",
            " 0.99159841 0.96972895 0.97614625 0.96795575 1.         0.99016297\n",
            " 0.99050072 0.96538039 0.98488559 0.97086887 0.94026007 0.87748037\n",
            " 0.83483915 0.85413324 0.77336823 0.77269273 0.88014017 0.84007431\n",
            " 0.89673225 0.85527316 0.83884995 0.74233725 0.82327113 0.78143207\n",
            " 0.6665963  0.7921557  0.64118044 0.68614371 0.66001013 0.65203074\n",
            " 0.58642236 0.56586169 0.66089673 0.65515494 0.70970193 0.66452757\n",
            " 0.69437642 0.69218104 0.63569197 0.65266402 0.63780292 0.7267162\n",
            " 0.71388162 0.74191506 0.75002111 0.77222832 0.83049059 0.8194292\n",
            " 0.8289707  0.8125475  0.78776492 0.75162543 0.78426074 0.77974331\n",
            " 0.81326522 0.8141096  0.79473106 0.83336148 0.85898843 0.83901883\n",
            " 0.85628641 0.87486279 0.88782403 0.90095415 0.92793211 0.948535\n",
            " 0.93333615 0.91746179 0.92544119 0.91771511 0.9483239  0.94064004\n",
            " 0.96635143 0.9563033  0.96491598 0.94066477 0.92965829 0.91470236\n",
            " 0.90049505 0.88875228 0.88001621 0.87422305 0.87090492 0.86935461\n",
            " 0.86878741 0.86848301 0.86788583 0.86666387]\n",
            "13 day output [[0.864716]]\n",
            "14 day input [0.95989192 0.96635143 0.96246728 0.92295027 0.9598497  0.98792536\n",
            " 0.98594106 0.92531453 0.92172591 0.96474711 0.97572406 0.99159841\n",
            " 0.96972895 0.97614625 0.96795575 1.         0.99016297 0.99050072\n",
            " 0.96538039 0.98488559 0.97086887 0.94026007 0.87748037 0.83483915\n",
            " 0.85413324 0.77336823 0.77269273 0.88014017 0.84007431 0.89673225\n",
            " 0.85527316 0.83884995 0.74233725 0.82327113 0.78143207 0.6665963\n",
            " 0.7921557  0.64118044 0.68614371 0.66001013 0.65203074 0.58642236\n",
            " 0.56586169 0.66089673 0.65515494 0.70970193 0.66452757 0.69437642\n",
            " 0.69218104 0.63569197 0.65266402 0.63780292 0.7267162  0.71388162\n",
            " 0.74191506 0.75002111 0.77222832 0.83049059 0.8194292  0.8289707\n",
            " 0.8125475  0.78776492 0.75162543 0.78426074 0.77974331 0.81326522\n",
            " 0.8141096  0.79473106 0.83336148 0.85898843 0.83901883 0.85628641\n",
            " 0.87486279 0.88782403 0.90095415 0.92793211 0.948535   0.93333615\n",
            " 0.91746179 0.92544119 0.91771511 0.9483239  0.94064004 0.96635143\n",
            " 0.9563033  0.96491598 0.94066477 0.92965829 0.91470236 0.90049505\n",
            " 0.88875228 0.88001621 0.87422305 0.87090492 0.86935461 0.86878741\n",
            " 0.86848301 0.86788583 0.86666387 0.86471599]\n",
            "14 day output [[0.8621443]]\n",
            "15 day input [0.96635143 0.96246728 0.92295027 0.9598497  0.98792536 0.98594106\n",
            " 0.92531453 0.92172591 0.96474711 0.97572406 0.99159841 0.96972895\n",
            " 0.97614625 0.96795575 1.         0.99016297 0.99050072 0.96538039\n",
            " 0.98488559 0.97086887 0.94026007 0.87748037 0.83483915 0.85413324\n",
            " 0.77336823 0.77269273 0.88014017 0.84007431 0.89673225 0.85527316\n",
            " 0.83884995 0.74233725 0.82327113 0.78143207 0.6665963  0.7921557\n",
            " 0.64118044 0.68614371 0.66001013 0.65203074 0.58642236 0.56586169\n",
            " 0.66089673 0.65515494 0.70970193 0.66452757 0.69437642 0.69218104\n",
            " 0.63569197 0.65266402 0.63780292 0.7267162  0.71388162 0.74191506\n",
            " 0.75002111 0.77222832 0.83049059 0.8194292  0.8289707  0.8125475\n",
            " 0.78776492 0.75162543 0.78426074 0.77974331 0.81326522 0.8141096\n",
            " 0.79473106 0.83336148 0.85898843 0.83901883 0.85628641 0.87486279\n",
            " 0.88782403 0.90095415 0.92793211 0.948535   0.93333615 0.91746179\n",
            " 0.92544119 0.91771511 0.9483239  0.94064004 0.96635143 0.9563033\n",
            " 0.96491598 0.94066477 0.92965829 0.91470236 0.90049505 0.88875228\n",
            " 0.88001621 0.87422305 0.87090492 0.86935461 0.86878741 0.86848301\n",
            " 0.86788583 0.86666387 0.86471599 0.86214429]\n",
            "15 day output [[0.8591942]]\n",
            "16 day input [0.96246728 0.92295027 0.9598497  0.98792536 0.98594106 0.92531453\n",
            " 0.92172591 0.96474711 0.97572406 0.99159841 0.96972895 0.97614625\n",
            " 0.96795575 1.         0.99016297 0.99050072 0.96538039 0.98488559\n",
            " 0.97086887 0.94026007 0.87748037 0.83483915 0.85413324 0.77336823\n",
            " 0.77269273 0.88014017 0.84007431 0.89673225 0.85527316 0.83884995\n",
            " 0.74233725 0.82327113 0.78143207 0.6665963  0.7921557  0.64118044\n",
            " 0.68614371 0.66001013 0.65203074 0.58642236 0.56586169 0.66089673\n",
            " 0.65515494 0.70970193 0.66452757 0.69437642 0.69218104 0.63569197\n",
            " 0.65266402 0.63780292 0.7267162  0.71388162 0.74191506 0.75002111\n",
            " 0.77222832 0.83049059 0.8194292  0.8289707  0.8125475  0.78776492\n",
            " 0.75162543 0.78426074 0.77974331 0.81326522 0.8141096  0.79473106\n",
            " 0.83336148 0.85898843 0.83901883 0.85628641 0.87486279 0.88782403\n",
            " 0.90095415 0.92793211 0.948535   0.93333615 0.91746179 0.92544119\n",
            " 0.91771511 0.9483239  0.94064004 0.96635143 0.9563033  0.96491598\n",
            " 0.94066477 0.92965829 0.91470236 0.90049505 0.88875228 0.88001621\n",
            " 0.87422305 0.87090492 0.86935461 0.86878741 0.86848301 0.86788583\n",
            " 0.86666387 0.86471599 0.86214429 0.85919422]\n",
            "16 day output [[0.8561831]]\n",
            "17 day input [0.92295027 0.9598497  0.98792536 0.98594106 0.92531453 0.92172591\n",
            " 0.96474711 0.97572406 0.99159841 0.96972895 0.97614625 0.96795575\n",
            " 1.         0.99016297 0.99050072 0.96538039 0.98488559 0.97086887\n",
            " 0.94026007 0.87748037 0.83483915 0.85413324 0.77336823 0.77269273\n",
            " 0.88014017 0.84007431 0.89673225 0.85527316 0.83884995 0.74233725\n",
            " 0.82327113 0.78143207 0.6665963  0.7921557  0.64118044 0.68614371\n",
            " 0.66001013 0.65203074 0.58642236 0.56586169 0.66089673 0.65515494\n",
            " 0.70970193 0.66452757 0.69437642 0.69218104 0.63569197 0.65266402\n",
            " 0.63780292 0.7267162  0.71388162 0.74191506 0.75002111 0.77222832\n",
            " 0.83049059 0.8194292  0.8289707  0.8125475  0.78776492 0.75162543\n",
            " 0.78426074 0.77974331 0.81326522 0.8141096  0.79473106 0.83336148\n",
            " 0.85898843 0.83901883 0.85628641 0.87486279 0.88782403 0.90095415\n",
            " 0.92793211 0.948535   0.93333615 0.91746179 0.92544119 0.91771511\n",
            " 0.9483239  0.94064004 0.96635143 0.9563033  0.96491598 0.94066477\n",
            " 0.92965829 0.91470236 0.90049505 0.88875228 0.88001621 0.87422305\n",
            " 0.87090492 0.86935461 0.86878741 0.86848301 0.86788583 0.86666387\n",
            " 0.86471599 0.86214429 0.85919422 0.85618311]\n",
            "17 day output [[0.8534305]]\n",
            "18 day input [0.9598497  0.98792536 0.98594106 0.92531453 0.92172591 0.96474711\n",
            " 0.97572406 0.99159841 0.96972895 0.97614625 0.96795575 1.\n",
            " 0.99016297 0.99050072 0.96538039 0.98488559 0.97086887 0.94026007\n",
            " 0.87748037 0.83483915 0.85413324 0.77336823 0.77269273 0.88014017\n",
            " 0.84007431 0.89673225 0.85527316 0.83884995 0.74233725 0.82327113\n",
            " 0.78143207 0.6665963  0.7921557  0.64118044 0.68614371 0.66001013\n",
            " 0.65203074 0.58642236 0.56586169 0.66089673 0.65515494 0.70970193\n",
            " 0.66452757 0.69437642 0.69218104 0.63569197 0.65266402 0.63780292\n",
            " 0.7267162  0.71388162 0.74191506 0.75002111 0.77222832 0.83049059\n",
            " 0.8194292  0.8289707  0.8125475  0.78776492 0.75162543 0.78426074\n",
            " 0.77974331 0.81326522 0.8141096  0.79473106 0.83336148 0.85898843\n",
            " 0.83901883 0.85628641 0.87486279 0.88782403 0.90095415 0.92793211\n",
            " 0.948535   0.93333615 0.91746179 0.92544119 0.91771511 0.9483239\n",
            " 0.94064004 0.96635143 0.9563033  0.96491598 0.94066477 0.92965829\n",
            " 0.91470236 0.90049505 0.88875228 0.88001621 0.87422305 0.87090492\n",
            " 0.86935461 0.86878741 0.86848301 0.86788583 0.86666387 0.86471599\n",
            " 0.86214429 0.85919422 0.85618311 0.85343051]\n",
            "18 day output [[0.85120076]]\n",
            "19 day input [0.98792536 0.98594106 0.92531453 0.92172591 0.96474711 0.97572406\n",
            " 0.99159841 0.96972895 0.97614625 0.96795575 1.         0.99016297\n",
            " 0.99050072 0.96538039 0.98488559 0.97086887 0.94026007 0.87748037\n",
            " 0.83483915 0.85413324 0.77336823 0.77269273 0.88014017 0.84007431\n",
            " 0.89673225 0.85527316 0.83884995 0.74233725 0.82327113 0.78143207\n",
            " 0.6665963  0.7921557  0.64118044 0.68614371 0.66001013 0.65203074\n",
            " 0.58642236 0.56586169 0.66089673 0.65515494 0.70970193 0.66452757\n",
            " 0.69437642 0.69218104 0.63569197 0.65266402 0.63780292 0.7267162\n",
            " 0.71388162 0.74191506 0.75002111 0.77222832 0.83049059 0.8194292\n",
            " 0.8289707  0.8125475  0.78776492 0.75162543 0.78426074 0.77974331\n",
            " 0.81326522 0.8141096  0.79473106 0.83336148 0.85898843 0.83901883\n",
            " 0.85628641 0.87486279 0.88782403 0.90095415 0.92793211 0.948535\n",
            " 0.93333615 0.91746179 0.92544119 0.91771511 0.9483239  0.94064004\n",
            " 0.96635143 0.9563033  0.96491598 0.94066477 0.92965829 0.91470236\n",
            " 0.90049505 0.88875228 0.88001621 0.87422305 0.87090492 0.86935461\n",
            " 0.86878741 0.86848301 0.86788583 0.86666387 0.86471599 0.86214429\n",
            " 0.85919422 0.85618311 0.85343051 0.85120076]\n",
            "19 day output [[0.8496677]]\n",
            "20 day input [0.98594106 0.92531453 0.92172591 0.96474711 0.97572406 0.99159841\n",
            " 0.96972895 0.97614625 0.96795575 1.         0.99016297 0.99050072\n",
            " 0.96538039 0.98488559 0.97086887 0.94026007 0.87748037 0.83483915\n",
            " 0.85413324 0.77336823 0.77269273 0.88014017 0.84007431 0.89673225\n",
            " 0.85527316 0.83884995 0.74233725 0.82327113 0.78143207 0.6665963\n",
            " 0.7921557  0.64118044 0.68614371 0.66001013 0.65203074 0.58642236\n",
            " 0.56586169 0.66089673 0.65515494 0.70970193 0.66452757 0.69437642\n",
            " 0.69218104 0.63569197 0.65266402 0.63780292 0.7267162  0.71388162\n",
            " 0.74191506 0.75002111 0.77222832 0.83049059 0.8194292  0.8289707\n",
            " 0.8125475  0.78776492 0.75162543 0.78426074 0.77974331 0.81326522\n",
            " 0.8141096  0.79473106 0.83336148 0.85898843 0.83901883 0.85628641\n",
            " 0.87486279 0.88782403 0.90095415 0.92793211 0.948535   0.93333615\n",
            " 0.91746179 0.92544119 0.91771511 0.9483239  0.94064004 0.96635143\n",
            " 0.9563033  0.96491598 0.94066477 0.92965829 0.91470236 0.90049505\n",
            " 0.88875228 0.88001621 0.87422305 0.87090492 0.86935461 0.86878741\n",
            " 0.86848301 0.86788583 0.86666387 0.86471599 0.86214429 0.85919422\n",
            " 0.85618311 0.85343051 0.85120076 0.84966773]\n",
            "20 day output [[0.8488998]]\n",
            "21 day input [0.92531453 0.92172591 0.96474711 0.97572406 0.99159841 0.96972895\n",
            " 0.97614625 0.96795575 1.         0.99016297 0.99050072 0.96538039\n",
            " 0.98488559 0.97086887 0.94026007 0.87748037 0.83483915 0.85413324\n",
            " 0.77336823 0.77269273 0.88014017 0.84007431 0.89673225 0.85527316\n",
            " 0.83884995 0.74233725 0.82327113 0.78143207 0.6665963  0.7921557\n",
            " 0.64118044 0.68614371 0.66001013 0.65203074 0.58642236 0.56586169\n",
            " 0.66089673 0.65515494 0.70970193 0.66452757 0.69437642 0.69218104\n",
            " 0.63569197 0.65266402 0.63780292 0.7267162  0.71388162 0.74191506\n",
            " 0.75002111 0.77222832 0.83049059 0.8194292  0.8289707  0.8125475\n",
            " 0.78776492 0.75162543 0.78426074 0.77974331 0.81326522 0.8141096\n",
            " 0.79473106 0.83336148 0.85898843 0.83901883 0.85628641 0.87486279\n",
            " 0.88782403 0.90095415 0.92793211 0.948535   0.93333615 0.91746179\n",
            " 0.92544119 0.91771511 0.9483239  0.94064004 0.96635143 0.9563033\n",
            " 0.96491598 0.94066477 0.92965829 0.91470236 0.90049505 0.88875228\n",
            " 0.88001621 0.87422305 0.87090492 0.86935461 0.86878741 0.86848301\n",
            " 0.86788583 0.86666387 0.86471599 0.86214429 0.85919422 0.85618311\n",
            " 0.85343051 0.85120076 0.84966773 0.84889978]\n",
            "21 day output [[0.84886616]]\n",
            "22 day input [0.92172591 0.96474711 0.97572406 0.99159841 0.96972895 0.97614625\n",
            " 0.96795575 1.         0.99016297 0.99050072 0.96538039 0.98488559\n",
            " 0.97086887 0.94026007 0.87748037 0.83483915 0.85413324 0.77336823\n",
            " 0.77269273 0.88014017 0.84007431 0.89673225 0.85527316 0.83884995\n",
            " 0.74233725 0.82327113 0.78143207 0.6665963  0.7921557  0.64118044\n",
            " 0.68614371 0.66001013 0.65203074 0.58642236 0.56586169 0.66089673\n",
            " 0.65515494 0.70970193 0.66452757 0.69437642 0.69218104 0.63569197\n",
            " 0.65266402 0.63780292 0.7267162  0.71388162 0.74191506 0.75002111\n",
            " 0.77222832 0.83049059 0.8194292  0.8289707  0.8125475  0.78776492\n",
            " 0.75162543 0.78426074 0.77974331 0.81326522 0.8141096  0.79473106\n",
            " 0.83336148 0.85898843 0.83901883 0.85628641 0.87486279 0.88782403\n",
            " 0.90095415 0.92793211 0.948535   0.93333615 0.91746179 0.92544119\n",
            " 0.91771511 0.9483239  0.94064004 0.96635143 0.9563033  0.96491598\n",
            " 0.94066477 0.92965829 0.91470236 0.90049505 0.88875228 0.88001621\n",
            " 0.87422305 0.87090492 0.86935461 0.86878741 0.86848301 0.86788583\n",
            " 0.86666387 0.86471599 0.86214429 0.85919422 0.85618311 0.85343051\n",
            " 0.85120076 0.84966773 0.84889978 0.84886616]\n",
            "22 day output [[0.84945685]]\n",
            "23 day input [0.96474711 0.97572406 0.99159841 0.96972895 0.97614625 0.96795575\n",
            " 1.         0.99016297 0.99050072 0.96538039 0.98488559 0.97086887\n",
            " 0.94026007 0.87748037 0.83483915 0.85413324 0.77336823 0.77269273\n",
            " 0.88014017 0.84007431 0.89673225 0.85527316 0.83884995 0.74233725\n",
            " 0.82327113 0.78143207 0.6665963  0.7921557  0.64118044 0.68614371\n",
            " 0.66001013 0.65203074 0.58642236 0.56586169 0.66089673 0.65515494\n",
            " 0.70970193 0.66452757 0.69437642 0.69218104 0.63569197 0.65266402\n",
            " 0.63780292 0.7267162  0.71388162 0.74191506 0.75002111 0.77222832\n",
            " 0.83049059 0.8194292  0.8289707  0.8125475  0.78776492 0.75162543\n",
            " 0.78426074 0.77974331 0.81326522 0.8141096  0.79473106 0.83336148\n",
            " 0.85898843 0.83901883 0.85628641 0.87486279 0.88782403 0.90095415\n",
            " 0.92793211 0.948535   0.93333615 0.91746179 0.92544119 0.91771511\n",
            " 0.9483239  0.94064004 0.96635143 0.9563033  0.96491598 0.94066477\n",
            " 0.92965829 0.91470236 0.90049505 0.88875228 0.88001621 0.87422305\n",
            " 0.87090492 0.86935461 0.86878741 0.86848301 0.86788583 0.86666387\n",
            " 0.86471599 0.86214429 0.85919422 0.85618311 0.85343051 0.85120076\n",
            " 0.84966773 0.84889978 0.84886616 0.84945685]\n",
            "23 day output [[0.8505111]]\n",
            "24 day input [0.97572406 0.99159841 0.96972895 0.97614625 0.96795575 1.\n",
            " 0.99016297 0.99050072 0.96538039 0.98488559 0.97086887 0.94026007\n",
            " 0.87748037 0.83483915 0.85413324 0.77336823 0.77269273 0.88014017\n",
            " 0.84007431 0.89673225 0.85527316 0.83884995 0.74233725 0.82327113\n",
            " 0.78143207 0.6665963  0.7921557  0.64118044 0.68614371 0.66001013\n",
            " 0.65203074 0.58642236 0.56586169 0.66089673 0.65515494 0.70970193\n",
            " 0.66452757 0.69437642 0.69218104 0.63569197 0.65266402 0.63780292\n",
            " 0.7267162  0.71388162 0.74191506 0.75002111 0.77222832 0.83049059\n",
            " 0.8194292  0.8289707  0.8125475  0.78776492 0.75162543 0.78426074\n",
            " 0.77974331 0.81326522 0.8141096  0.79473106 0.83336148 0.85898843\n",
            " 0.83901883 0.85628641 0.87486279 0.88782403 0.90095415 0.92793211\n",
            " 0.948535   0.93333615 0.91746179 0.92544119 0.91771511 0.9483239\n",
            " 0.94064004 0.96635143 0.9563033  0.96491598 0.94066477 0.92965829\n",
            " 0.91470236 0.90049505 0.88875228 0.88001621 0.87422305 0.87090492\n",
            " 0.86935461 0.86878741 0.86848301 0.86788583 0.86666387 0.86471599\n",
            " 0.86214429 0.85919422 0.85618311 0.85343051 0.85120076 0.84966773\n",
            " 0.84889978 0.84886616 0.84945685 0.85051107]\n",
            "24 day output [[0.8518474]]\n",
            "25 day input [0.99159841 0.96972895 0.97614625 0.96795575 1.         0.99016297\n",
            " 0.99050072 0.96538039 0.98488559 0.97086887 0.94026007 0.87748037\n",
            " 0.83483915 0.85413324 0.77336823 0.77269273 0.88014017 0.84007431\n",
            " 0.89673225 0.85527316 0.83884995 0.74233725 0.82327113 0.78143207\n",
            " 0.6665963  0.7921557  0.64118044 0.68614371 0.66001013 0.65203074\n",
            " 0.58642236 0.56586169 0.66089673 0.65515494 0.70970193 0.66452757\n",
            " 0.69437642 0.69218104 0.63569197 0.65266402 0.63780292 0.7267162\n",
            " 0.71388162 0.74191506 0.75002111 0.77222832 0.83049059 0.8194292\n",
            " 0.8289707  0.8125475  0.78776492 0.75162543 0.78426074 0.77974331\n",
            " 0.81326522 0.8141096  0.79473106 0.83336148 0.85898843 0.83901883\n",
            " 0.85628641 0.87486279 0.88782403 0.90095415 0.92793211 0.948535\n",
            " 0.93333615 0.91746179 0.92544119 0.91771511 0.9483239  0.94064004\n",
            " 0.96635143 0.9563033  0.96491598 0.94066477 0.92965829 0.91470236\n",
            " 0.90049505 0.88875228 0.88001621 0.87422305 0.87090492 0.86935461\n",
            " 0.86878741 0.86848301 0.86788583 0.86666387 0.86471599 0.86214429\n",
            " 0.85919422 0.85618311 0.85343051 0.85120076 0.84966773 0.84889978\n",
            " 0.84886616 0.84945685 0.85051107 0.85184741]\n",
            "25 day output [[0.8532938]]\n",
            "26 day input [0.96972895 0.97614625 0.96795575 1.         0.99016297 0.99050072\n",
            " 0.96538039 0.98488559 0.97086887 0.94026007 0.87748037 0.83483915\n",
            " 0.85413324 0.77336823 0.77269273 0.88014017 0.84007431 0.89673225\n",
            " 0.85527316 0.83884995 0.74233725 0.82327113 0.78143207 0.6665963\n",
            " 0.7921557  0.64118044 0.68614371 0.66001013 0.65203074 0.58642236\n",
            " 0.56586169 0.66089673 0.65515494 0.70970193 0.66452757 0.69437642\n",
            " 0.69218104 0.63569197 0.65266402 0.63780292 0.7267162  0.71388162\n",
            " 0.74191506 0.75002111 0.77222832 0.83049059 0.8194292  0.8289707\n",
            " 0.8125475  0.78776492 0.75162543 0.78426074 0.77974331 0.81326522\n",
            " 0.8141096  0.79473106 0.83336148 0.85898843 0.83901883 0.85628641\n",
            " 0.87486279 0.88782403 0.90095415 0.92793211 0.948535   0.93333615\n",
            " 0.91746179 0.92544119 0.91771511 0.9483239  0.94064004 0.96635143\n",
            " 0.9563033  0.96491598 0.94066477 0.92965829 0.91470236 0.90049505\n",
            " 0.88875228 0.88001621 0.87422305 0.87090492 0.86935461 0.86878741\n",
            " 0.86848301 0.86788583 0.86666387 0.86471599 0.86214429 0.85919422\n",
            " 0.85618311 0.85343051 0.85120076 0.84966773 0.84889978 0.84886616\n",
            " 0.84945685 0.85051107 0.85184741 0.85329378]\n",
            "26 day output [[0.85470694]]\n",
            "27 day input [0.97614625 0.96795575 1.         0.99016297 0.99050072 0.96538039\n",
            " 0.98488559 0.97086887 0.94026007 0.87748037 0.83483915 0.85413324\n",
            " 0.77336823 0.77269273 0.88014017 0.84007431 0.89673225 0.85527316\n",
            " 0.83884995 0.74233725 0.82327113 0.78143207 0.6665963  0.7921557\n",
            " 0.64118044 0.68614371 0.66001013 0.65203074 0.58642236 0.56586169\n",
            " 0.66089673 0.65515494 0.70970193 0.66452757 0.69437642 0.69218104\n",
            " 0.63569197 0.65266402 0.63780292 0.7267162  0.71388162 0.74191506\n",
            " 0.75002111 0.77222832 0.83049059 0.8194292  0.8289707  0.8125475\n",
            " 0.78776492 0.75162543 0.78426074 0.77974331 0.81326522 0.8141096\n",
            " 0.79473106 0.83336148 0.85898843 0.83901883 0.85628641 0.87486279\n",
            " 0.88782403 0.90095415 0.92793211 0.948535   0.93333615 0.91746179\n",
            " 0.92544119 0.91771511 0.9483239  0.94064004 0.96635143 0.9563033\n",
            " 0.96491598 0.94066477 0.92965829 0.91470236 0.90049505 0.88875228\n",
            " 0.88001621 0.87422305 0.87090492 0.86935461 0.86878741 0.86848301\n",
            " 0.86788583 0.86666387 0.86471599 0.86214429 0.85919422 0.85618311\n",
            " 0.85343051 0.85120076 0.84966773 0.84889978 0.84886616 0.84945685\n",
            " 0.85051107 0.85184741 0.85329378 0.85470694]\n",
            "27 day output [[0.8559871]]\n",
            "28 day input [0.96795575 1.         0.99016297 0.99050072 0.96538039 0.98488559\n",
            " 0.97086887 0.94026007 0.87748037 0.83483915 0.85413324 0.77336823\n",
            " 0.77269273 0.88014017 0.84007431 0.89673225 0.85527316 0.83884995\n",
            " 0.74233725 0.82327113 0.78143207 0.6665963  0.7921557  0.64118044\n",
            " 0.68614371 0.66001013 0.65203074 0.58642236 0.56586169 0.66089673\n",
            " 0.65515494 0.70970193 0.66452757 0.69437642 0.69218104 0.63569197\n",
            " 0.65266402 0.63780292 0.7267162  0.71388162 0.74191506 0.75002111\n",
            " 0.77222832 0.83049059 0.8194292  0.8289707  0.8125475  0.78776492\n",
            " 0.75162543 0.78426074 0.77974331 0.81326522 0.8141096  0.79473106\n",
            " 0.83336148 0.85898843 0.83901883 0.85628641 0.87486279 0.88782403\n",
            " 0.90095415 0.92793211 0.948535   0.93333615 0.91746179 0.92544119\n",
            " 0.91771511 0.9483239  0.94064004 0.96635143 0.9563033  0.96491598\n",
            " 0.94066477 0.92965829 0.91470236 0.90049505 0.88875228 0.88001621\n",
            " 0.87422305 0.87090492 0.86935461 0.86878741 0.86848301 0.86788583\n",
            " 0.86666387 0.86471599 0.86214429 0.85919422 0.85618311 0.85343051\n",
            " 0.85120076 0.84966773 0.84889978 0.84886616 0.84945685 0.85051107\n",
            " 0.85184741 0.85329378 0.85470694 0.85598707]\n",
            "28 day output [[0.85708123]]\n",
            "29 day input [1.         0.99016297 0.99050072 0.96538039 0.98488559 0.97086887\n",
            " 0.94026007 0.87748037 0.83483915 0.85413324 0.77336823 0.77269273\n",
            " 0.88014017 0.84007431 0.89673225 0.85527316 0.83884995 0.74233725\n",
            " 0.82327113 0.78143207 0.6665963  0.7921557  0.64118044 0.68614371\n",
            " 0.66001013 0.65203074 0.58642236 0.56586169 0.66089673 0.65515494\n",
            " 0.70970193 0.66452757 0.69437642 0.69218104 0.63569197 0.65266402\n",
            " 0.63780292 0.7267162  0.71388162 0.74191506 0.75002111 0.77222832\n",
            " 0.83049059 0.8194292  0.8289707  0.8125475  0.78776492 0.75162543\n",
            " 0.78426074 0.77974331 0.81326522 0.8141096  0.79473106 0.83336148\n",
            " 0.85898843 0.83901883 0.85628641 0.87486279 0.88782403 0.90095415\n",
            " 0.92793211 0.948535   0.93333615 0.91746179 0.92544119 0.91771511\n",
            " 0.9483239  0.94064004 0.96635143 0.9563033  0.96491598 0.94066477\n",
            " 0.92965829 0.91470236 0.90049505 0.88875228 0.88001621 0.87422305\n",
            " 0.87090492 0.86935461 0.86878741 0.86848301 0.86788583 0.86666387\n",
            " 0.86471599 0.86214429 0.85919422 0.85618311 0.85343051 0.85120076\n",
            " 0.84966773 0.84889978 0.84886616 0.84945685 0.85051107 0.85184741\n",
            " 0.85329378 0.85470694 0.85598707 0.85708123]\n",
            "29 day output [[0.85797936]]\n",
            "[[0.9406647682189941], [0.9296582937240601], [0.9147023558616638], [0.9004950523376465], [0.888752281665802], [0.8800162076950073], [0.8742230534553528], [0.8709049224853516], [0.8693546056747437], [0.868787407875061], [0.8684830069541931], [0.8678858280181885], [0.8666638731956482], [0.8647159934043884], [0.8621442914009094], [0.8591942191123962], [0.8561831116676331], [0.8534305095672607], [0.8512007594108582], [0.8496677279472351], [0.848899781703949], [0.8488661646842957], [0.8494568467140198], [0.8505110740661621], [0.8518474102020264], [0.853293776512146], [0.8547069430351257], [0.8559870719909668], [0.8570812344551086], [0.8579793572425842]]\n"
          ]
        }
      ]
    },
    {
      "cell_type": "code",
      "source": [
        "day_new=np.arange(1,101)\n",
        "day_pred=np.arange(101,131)"
      ],
      "metadata": {
        "id": "sV-Mu97xOji_"
      },
      "execution_count": 142,
      "outputs": []
    },
    {
      "cell_type": "code",
      "source": [
        "import matplotlib.pyplot as plt"
      ],
      "metadata": {
        "id": "QaPVO3tOOp5f"
      },
      "execution_count": 143,
      "outputs": []
    },
    {
      "cell_type": "code",
      "source": [
        "len(df1)"
      ],
      "metadata": {
        "colab": {
          "base_uri": "https://localhost:8080/"
        },
        "id": "InaJrOd2OqnN",
        "outputId": "0d29696e-a1b6-45d2-dd5e-4fc8f90ba61c"
      },
      "execution_count": 144,
      "outputs": [
        {
          "output_type": "execute_result",
          "data": {
            "text/plain": [
              "1258"
            ]
          },
          "metadata": {},
          "execution_count": 144
        }
      ]
    },
    {
      "cell_type": "code",
      "source": [
        "plt.plot(day_new,scaler.inverse_transform(df1[1158:]))\n",
        "plt.plot(day_pred,scaler.inverse_transform(lst_output))"
      ],
      "metadata": {
        "colab": {
          "base_uri": "https://localhost:8080/",
          "height": 447
        },
        "id": "oWZf7J6jOuHo",
        "outputId": "fbc496b8-b6dc-4872-a597-4804b157d7b5"
      },
      "execution_count": 145,
      "outputs": [
        {
          "output_type": "execute_result",
          "data": {
            "text/plain": [
              "[<matplotlib.lines.Line2D at 0x7c3358d7fa90>]"
            ]
          },
          "metadata": {},
          "execution_count": 145
        },
        {
          "output_type": "display_data",
          "data": {
            "text/plain": [
              "<Figure size 640x480 with 1 Axes>"
            ],
            "image/png": "[encoded data removed]"
          },
          "metadata": {}
        }
      ]
    },
    {
      "cell_type": "code",
      "source": [
        "df3=df1.tolist()\n",
        "df3.extend(lst_output)\n",
        "plt.plot(df3[1200:])"
      ],
      "metadata": {
        "colab": {
          "base_uri": "https://localhost:8080/",
          "height": 447
        },
        "id": "MiWiUfoyOyjP",
        "outputId": "b08bdc7d-8747-4f2a-b918-04b4dcff4fc1"
      },
      "execution_count": 146,
      "outputs": [
        {
          "output_type": "execute_result",
          "data": {
            "text/plain": [
              "[<matplotlib.lines.Line2D at 0x7c3358d88550>]"
            ]
          },
          "metadata": {},
          "execution_count": 146
        },
        {
          "output_type": "display_data",
          "data": {
            "text/plain": [
              "<Figure size 640x480 with 1 Axes>"
            ],
            "image/png": "[encoded data removed]"
          },
          "metadata": {}
        }
      ]
    },
    {
      "cell_type": "code",
      "source": [
        "df3=scaler.inverse_transform(df3).tolist()"
      ],
      "metadata": {
        "id": "6BuKoreuO1mI"
      },
      "execution_count": 147,
      "outputs": []
    },
    {
      "cell_type": "code",
      "source": [
        "plt.plot(df3)"
      ],
      "metadata": {
        "colab": {
          "base_uri": "https://localhost:8080/",
          "height": 447
        },
        "id": "Uki8h-H7O23_",
        "outputId": "c83a8606-19cf-4f06-81ef-99d63631cdaa"
      },
      "execution_count": 148,
      "outputs": [
        {
          "output_type": "execute_result",
          "data": {
            "text/plain": [
              "[<matplotlib.lines.Line2D at 0x7c3358cb8af0>]"
            ]
          },
          "metadata": {},
          "execution_count": 148
        },
        {
          "output_type": "display_data",
          "data": {
            "text/plain": [
              "<Figure size 640x480 with 1 Axes>"
            ],
            "image/png": "[encoded data removed]"
          },
          "metadata": {}
        }
      ]
    }
  ]
}